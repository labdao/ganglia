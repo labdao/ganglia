{
  "cells": [
    {
      "cell_type": "code",
      "execution_count": null,
      "metadata": {
        "id": "m0TDslfLO9gR"
      },
      "outputs": [],
      "source": [
        "# Default Parameters\n",
        "#%%param\n",
        "x = 50"
      ]
    },
    {
      "cell_type": "code",
      "execution_count": null,
      "metadata": {
        "id": "oFkemtOEOhGO"
      },
      "outputs": [],
      "source": [
        "import os\n",
        "\n",
        "\n",
        "# Check for the presence of 'input.txt' in the current working directory\n",
        "if os.path.exists('input.txt') and x == 4:\n",
        "    # Write \"success\" to 'output.txt'\n",
        "    with open('output.txt', 'w') as output_file:\n",
        "        output_file.write('success')\n",
        "    print(\"Success.\")\n",
        "else:\n",
        "    print(\"Conditions not met. No output file generated.\")\n"
      ]
    }
  ],
  "metadata": {
    "colab": {
      "provenance": []
    },
    "kernelspec": {
      "display_name": "Python 3",
      "name": "python3"
    },
    "language_info": {
      "name": "python"
    }
  },
  "nbformat": 4,
  "nbformat_minor": 0
}
