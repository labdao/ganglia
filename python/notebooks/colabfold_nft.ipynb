{
 "cells": [
  {
   "cell_type": "code",
   "execution_count": null,
   "metadata": {},
   "outputs": [],
   "source": [
    "# Run this code to setup the Python PLEX module\n",
    "\n",
    "import os\n",
    "\n",
    "PLEX_DIR = os.environ[\"PLEX_DIR\"] # PLEX_DIR should be the path to the plex repository\n",
    "\n",
    "os.environ[\"RECIPIENT_WALLET\"] = \"\" # (optional) enter your wallet address to mint an NFT\n",
    "os.environ[\"AUTOTASK_WEBHOOK\"] = \"\" # (optional) enter webhook URI for gasless minting"
   ]
  },
  {
   "attachments": {},
   "cell_type": "markdown",
   "metadata": {},
   "source": [
    "PLEx uses JSON and Docker to make scientific tools easy to run."
   ]
  },
  {
   "cell_type": "code",
   "execution_count": null,
   "metadata": {},
   "outputs": [],
   "source": [
    "# Run this code to use Colabfold\n",
    "\n",
    "from plex import CoreTools, plex_create, plex_run\n",
    "\n",
    "input_dir = f\"{PLEX_DIR}/testdata/folding\"\n",
    "\n",
    "initial_io_json_cid = plex_create(CoreTools.COLABFOLD_MINI.value, input_dir)\n",
    "\n",
    "completed_io_json_cid = plex_run(initial_io_json_cid)"
   ]
  },
  {
   "attachments": {},
   "cell_type": "markdown",
   "metadata": {},
   "source": [
    "PLEx uses an open-source storage system called IPFS. IPFS deterministically hashes every piece of data into a unique content identifier (CID). CIDs maximize the shareability and reproducibility of scientific computing."
   ]
  },
  {
   "cell_type": "code",
   "execution_count": null,
   "metadata": {},
   "outputs": [],
   "source": [
    "# Now you're ready to mint an NFT!\n",
    "\n",
    "from plex import plex_mint\n",
    "\n",
    "plex_mint(completed_io_json_cid\")"
   ]
  }
 ],
 "metadata": {
  "kernelspec": {
   "display_name": "Python 3",
   "language": "python",
   "name": "python3"
  },
  "language_info": {
   "name": "python",
   "version": "3.11.3"
  },
  "orig_nbformat": 4
 },
 "nbformat": 4,
 "nbformat_minor": 2
}
