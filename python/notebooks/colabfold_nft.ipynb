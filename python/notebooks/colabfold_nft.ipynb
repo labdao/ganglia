{
 "cells": [
  {
   "cell_type": "code",
   "execution_count": null,
   "metadata": {},
   "outputs": [],
   "source": [
    "# Run this code to setup the Python PLEX module\n",
    "\n",
    "import os\n",
    "\n",
    "PLEX_DIR = os.environ[\"PLEX_DIR\"] # PLEX_DIR should be the path to the plex repository\n",
    "os.environ[\"PLEX_WORK_DIR\"] = os.environ[\"HOME\"] # output files will be in the users home directory\n",
    "os.environ[\"PLEX_ACCESS_TOKEN\"] = \"\" # speak friend and enter\n",
    "os.environ[\"RECIPIENT_WALLET\"] = \"\" # (optional) enter your wallet address to mint an NFT\n",
    "os.environ[\"AUTOTASK_WEBHOOK\"] = \"\" # (optional) enter webhook URI for gasless minting"
   ]
  },
  {
   "attachments": {},
   "cell_type": "markdown",
   "metadata": {},
   "source": [
    "PLEx uses JSON and Docker to make scientific tools easy to run."
   ]
  },
  {
   "cell_type": "code",
   "execution_count": null,
   "metadata": {},
   "outputs": [],
   "source": [
    "# Run this code to use Colabfold\n",
    "\n",
    "from plex.sdk import generate_io_graph_from_tool, run_plex\n",
    "\n",
    "tool_filepath = f\"{PLEX_DIR}/tools/colabfold-mini.json\"\n",
    "sequence_path = [f\"{PLEX_DIR}/testdata/folding/test.fasta\"]\n",
    "\n",
    "io_graph = generate_io_graph_from_tool(tool_filepath=tool_filepath, sequence=sequence_path)"
   ]
  }
 ],
 "metadata": {
  "kernelspec": {
   "display_name": "Python 3",
   "language": "python",
   "name": "python3"
  },
  "language_info": {
   "name": "python",
   "version": "3.11.3"
  },
  "orig_nbformat": 4
 },
 "nbformat": 4,
 "nbformat_minor": 2
}
