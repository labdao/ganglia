{
 "cells": [
  {
   "cell_type": "code",
   "execution_count": null,
   "metadata": {},
   "outputs": [],
   "source": [
    "# Run this code to setup the Python PLEX module\n",
    "\n",
    "import os\n",
    "\n",
    "PLEX_DIR = os.environ[\"PLEX_DIR\"] # PLEX_DIR should be the path to the plex repository\n",
    "os.environ[\"PLEX_WORK_DIR\"] = os.environ[\"HOME\"] # output files will be in the users home directory\n",
    "os.environ[\"PLEX_ACCESS_TOKEN\"] = \"\" # speak friend and enter\n",
    "os.environ[\"RECIPIENT_WALLET\"] = \"\" # (optional) enter your wallet address to mint an NFT\n",
    "os.environ[\"AUTOTASK_WEBHOOK\"] = \"\" # (optional) enter webhook URI for gasless minting"
   ]
  },
  {
   "attachments": {},
   "cell_type": "markdown",
   "metadata": {},
   "source": [
    "PLEx uses JSON and Docker to make scientific tools easy to run."
   ]
  },
  {
   "cell_type": "code",
   "execution_count": null,
   "metadata": {},
   "outputs": [],
   "source": [
    "# Run this code to use Colabfold\n",
    "\n",
    "from plex.sdk import plex_create, plex_run\n",
    "\n",
    "tool_filepath = f\"{PLEX_DIR}/tools/colabfold-mini.json\"\n",
    "input_dir = f\"{PLEX_DIR}/testdata/folding\"\n",
    "\n",
    "initial_io_json_cid = plex_create(tool_filepath, input_dir)\n",
    "print(f\"Initial IO JSON CID: {initial_io_json_cid}\")\n",
    "\n",
    "completed_io_json_cid = plex_run(initial_io_json_cid)\n",
    "print(f\"Completed IO JSON CID: {completed_io_json_cid}\")"
   ]
  },
  {
   "attachments": {},
   "cell_type": "markdown",
   "metadata": {},
   "source": [
    "PLEx uses an open-source storage system called IPFS. IPFS deterministically hashes every piece of data into a unique content identifier (CID). CIDs maximize the shareability and reproducibility of scientific computing."
   ]
  },
  {
   "cell_type": "code",
   "execution_count": null,
   "metadata": {},
   "outputs": [],
   "source": [
    "# Now you're ready to mint an NFT!\n",
    "\n",
    "from plex.sdk import plex_mint\n",
    "\n",
    "plex_mint(completed_io_json_cid, plex_path=\"plex\")"
   ]
  }
 ],
 "metadata": {
  "kernelspec": {
   "display_name": "Python 3",
   "language": "python",
   "name": "python3"
  },
  "language_info": {
   "name": "python",
   "version": "3.11.3"
  },
  "orig_nbformat": 4
 },
 "nbformat": 4,
 "nbformat_minor": 2
}
