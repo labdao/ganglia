{
 "cells": [
  {
   "attachments": {},
   "cell_type": "markdown",
   "metadata": {},
   "source": [
    "PLEX is a software client that supports an open ecosystem for generating scientific data."
   ]
  },
  {
   "attachments": {},
   "cell_type": "markdown",
   "metadata": {},
   "source": [
    "PLEX uses JSON and Docker to make scientific tools easy to run."
   ]
  },
  {
   "cell_type": "code",
   "execution_count": null,
   "metadata": {},
   "outputs": [],
   "source": [
    "# import plex\n",
    "\n",
    "from plex import CoreTools, plex_init, plex_run\n"
   ]
  },
  {
   "cell_type": "code",
   "execution_count": null,
   "metadata": {},
   "outputs": [],
   "source": [
    "# The below files have already been uploaded to IPFS to make the notebook more shareable\n",
    "# Use the plex_upload function to upload your own files\n",
    "# Example: cid = plex_upload(\"path/to/your/protein.pdb\")\n",
    "\n",
    "protein_paths = [\"QmUWCBTqbRaKkPXQ3M14NkUuM4TEwfhVfrqLNoBB7syyyd/7n9g.pdb\"]\n",
    "small_molecule_paths = [\"QmV6qVzdQLNM6SyEDB3rJ5R5BYJsQwQTn1fjmPzvCCkCYz/ZINC000003986735.sdf\"]\n",
    "\n",
    "initial_io_json_cid = plex_init(\n",
    "    CoreTools.EQUIBIND.value,\n",
    "    protein=protein_paths,\n",
    "    small_molecule=small_molecule_paths)"
   ]
  },
  {
   "cell_type": "code",
   "execution_count": null,
   "metadata": {},
   "outputs": [],
   "source": [
    "# Process the initialized IO JSON\n",
    "\n",
    "completed_io_json_cid, io_json_local_filepath = plex_run(initial_io_json_cid)\n"
   ]
  },
  {
   "cell_type": "code",
   "execution_count": null,
   "metadata": {},
   "outputs": [],
   "source": [
    "# Run the below code to see how PLEX stored the CID for every input and output\n",
    "\n",
    "import json\n",
    "\n",
    "with open(io_json_local_filepath, 'r') as f:\n",
    "    data = json.load(f)\n",
    "    pretty_data = json.dumps(data, indent=4, sort_keys=True)\n",
    "    print(pretty_data)\n",
    "\n"
   ]
  },
  {
   "cell_type": "code",
   "execution_count": null,
   "metadata": {},
   "outputs": [],
   "source": [
    "# Run the following code to import outputs into your Python program as a dictionary of lists\n",
    "from plex import plex_vectorize\n",
    "\n",
    "output_vectors = plex_vectorize(completed_io_json_cid, CoreTools.EQUIBIND.value)\n",
    "\n",
    "print(output_vectors)\n"
   ]
  },
  {
   "attachments": {},
   "cell_type": "markdown",
   "metadata": {},
   "source": [
    "This software is just getting started. Visit our Charmverse to see how you can contribute. Also, please star the [PLEX Github](https://github.com/labdao/plex) if you are excited about decentralized science. "
   ]
  }
 ],
 "metadata": {
  "kernelspec": {
   "display_name": "Python 3 (ipykernel)",
   "language": "python",
   "name": "python3"
  },
  "language_info": {
   "codemirror_mode": {
    "name": "ipython",
    "version": 3
   },
   "file_extension": ".py",
   "mimetype": "text/x-python",
   "name": "python",
   "nbconvert_exporter": "python",
   "pygments_lexer": "ipython3",
   "version": "3.9.12"
  }
 },
 "nbformat": 4,
 "nbformat_minor": 4
}
