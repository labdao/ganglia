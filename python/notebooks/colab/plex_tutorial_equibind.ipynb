{
  "nbformat": 4,
  "nbformat_minor": 0,
  "metadata": {
    "colab": {
      "provenance": []
    },
    "kernelspec": {
      "name": "python3",
      "display_name": "Python 3"
    },
    "language_info": {
      "name": "python"
    }
  },
  "cells": [
    {
      "cell_type": "markdown",
      "source": [
        "## Install PLEX\n",
        "\n",
        "We first install the plex pip package."
      ],
      "metadata": {
        "id": "X_WSZx7OSFll"
      }
    },
    {
      "cell_type": "code",
      "execution_count": 1,
      "metadata": {
        "colab": {
          "base_uri": "https://localhost:8080/"
        },
        "id": "99yQg2fbNPBT",
        "outputId": "7f884352-2ffc-49f5-be67-7bf9422c3e53"
      },
      "outputs": [
        {
          "output_type": "stream",
          "name": "stdout",
          "text": [
            "Collecting PlexLabExchange\n",
            "  Downloading PlexLabExchange-0.8.18-py3-none-manylinux2014_x86_64.whl (26.9 MB)\n",
            "\u001b[2K     \u001b[90m━━━━━━━━━━━━━━━━━━━━━━━━━━━━━━━━━━━━━━━━\u001b[0m \u001b[32m26.9/26.9 MB\u001b[0m \u001b[31m19.2 MB/s\u001b[0m eta \u001b[36m0:00:00\u001b[0m\n",
            "\u001b[?25hInstalling collected packages: PlexLabExchange\n",
            "Successfully installed PlexLabExchange-0.8.18\n"
          ]
        }
      ],
      "source": [
        "!pip install PlexLabExchange"
      ]
    },
    {
      "cell_type": "markdown",
      "source": [
        "## Load small molecule and protein data\n",
        "\n",
        "Next, we load the small molecule and protein data which are available on IPFS. This data is used to initialize an IO JSON that serves as job instructions."
      ],
      "metadata": {
        "id": "GAqQ9Eg0SOTS"
      }
    },
    {
      "cell_type": "code",
      "source": [
        "small_molecule_path = [\"QmV6qVzdQLNM6SyEDB3rJ5R5BYJsQwQTn1fjmPzvCCkCYz/ZINC000003986735.sdf\"]\n",
        "protein_path = [\"QmUWCBTqbRaKkPXQ3M14NkUuM4TEwfhVfrqLNoBB7syyyd/7n9g.pdb\"]"
      ],
      "metadata": {
        "id": "ZnM0Tm7bNb1R"
      },
      "execution_count": 2,
      "outputs": []
    },
    {
      "cell_type": "code",
      "source": [
        "from plex import CoreTools, plex_init\n",
        "\n",
        "initial_io_cid = plex_init(\n",
        "    CoreTools.EQUIBIND.value,\n",
        "    protein=protein_path,\n",
        "    small_molecule=small_molecule_path\n",
        ")"
      ],
      "metadata": {
        "colab": {
          "base_uri": "https://localhost:8080/"
        },
        "id": "ZT2weQliNeGX",
        "outputId": "ca7aef97-96de-4d8b-aa55-2018db6eb833"
      },
      "execution_count": 3,
      "outputs": [
        {
          "output_type": "stream",
          "name": "stdout",
          "text": [
            "plex init -t QmZ2HarAgwZGjc3LBx9mWNwAQkPWiHMignqKup1ckp8NhB -i {\"protein\": [\"QmUWCBTqbRaKkPXQ3M14NkUuM4TEwfhVfrqLNoBB7syyyd/7n9g.pdb\"], \"small_molecule\": [\"QmV6qVzdQLNM6SyEDB3rJ5R5BYJsQwQTn1fjmPzvCCkCYz/ZINC000003986735.sdf\"]} --scatteringMethod=dotProduct\n",
            "Plex version (v0.8.3) up to date.\n",
            "Pinned IO JSON CID: QmShD7ApeDBUqqy98RuuKdyv8AdmBsvyZqqxSLAEvB9EKP\n"
          ]
        }
      ]
    },
    {
      "cell_type": "markdown",
      "source": [
        "## Dock the small molecule and protein using Equibind\n",
        "\n",
        "With the IO JSON created and pinned to IPFS, we can now submit the job to the LabDAO Bacalhau cluster for compute."
      ],
      "metadata": {
        "id": "9Rkyd4_KSZG0"
      }
    },
    {
      "cell_type": "code",
      "source": [
        "from plex import plex_run\n",
        "\n",
        "completed_io_cid, io_local_filepath = plex_run(initial_io_cid)"
      ],
      "metadata": {
        "colab": {
          "base_uri": "https://localhost:8080/"
        },
        "id": "sRkhy9HPRmbp",
        "outputId": "b1ec1b5d-1c97-4261-9578-29e3f1e8d1e3"
      },
      "execution_count": 4,
      "outputs": [
        {
          "output_type": "stream",
          "name": "stdout",
          "text": [
            "Plex version (v0.8.3) up to date.\n",
            "Created working directory:  /jobs/3f9b386d-a74d-463c-8ca6-a882d053c866\n",
            "Initialized IO file at:  /jobs/3f9b386d-a74d-463c-8ca6-a882d053c866/io.json\n",
            "Processing IO Entries\n",
            "Starting to process IO entry 0 \n",
            "Job running...\n",
            "Bacalhau job id: a292c5fc-a717-47d5-a5b4-4d3401670a4f \n",
            "\n",
            "Computing default go-libp2p Resource Manager limits based on:\n",
            "    - 'Swarm.ResourceMgr.MaxMemory': \"6.8 GB\"\n",
            "    - 'Swarm.ResourceMgr.MaxFileDescriptors': 524288\n",
            "\n",
            "Applying any user-supplied overrides on top.\n",
            "Run 'ipfs swarm limit all' to see the resulting limits.\n",
            "\n",
            "Success processing IO entry 0 \n",
            "Finished processing, results written to /jobs/3f9b386d-a74d-463c-8ca6-a882d053c866/io.json\n",
            "Completed IO JSON CID: QmVG4mT2kkPSb6wzT5QxYZndB5VbKLU8nH2dErZW2zxae6\n",
            "2023/07/20 03:28:45 failed to sufficiently increase receive buffer size (was: 208 kiB, wanted: 2048 kiB, got: 416 kiB). See https://github.com/quic-go/quic-go/wiki/UDP-Receive-Buffer-Size for details.\n"
          ]
        }
      ]
    },
    {
      "cell_type": "markdown",
      "source": [
        "Time to view our results!"
      ],
      "metadata": {
        "id": "rAVv3gtxVga6"
      }
    },
    {
      "cell_type": "code",
      "source": [
        "import json\n",
        "\n",
        "with open(io_local_filepath, 'r') as f:\n",
        "  data = json.load(f)\n",
        "  pretty_data = json.dumps(data, indent=4, sort_keys=True)\n",
        "  print(pretty_data)"
      ],
      "metadata": {
        "colab": {
          "base_uri": "https://localhost:8080/"
        },
        "id": "5Q9yPul1SsYO",
        "outputId": "dd9ef771-bcdb-455d-ee44-25ca7d84426c"
      },
      "execution_count": 5,
      "outputs": [
        {
          "output_type": "stream",
          "name": "stdout",
          "text": [
            "[\n",
            "    {\n",
            "        \"errMsg\": \"\",\n",
            "        \"inputs\": {\n",
            "            \"protein\": {\n",
            "                \"class\": \"File\",\n",
            "                \"filepath\": \"7n9g.pdb\",\n",
            "                \"ipfs\": \"QmUWCBTqbRaKkPXQ3M14NkUuM4TEwfhVfrqLNoBB7syyyd\"\n",
            "            },\n",
            "            \"small_molecule\": {\n",
            "                \"class\": \"File\",\n",
            "                \"filepath\": \"ZINC000003986735.sdf\",\n",
            "                \"ipfs\": \"QmV6qVzdQLNM6SyEDB3rJ5R5BYJsQwQTn1fjmPzvCCkCYz\"\n",
            "            }\n",
            "        },\n",
            "        \"outputs\": {\n",
            "            \"best_docked_small_molecule\": {\n",
            "                \"class\": \"File\",\n",
            "                \"filepath\": \"7n9g_ZINC000003986735_docked.sdf\",\n",
            "                \"ipfs\": \"QmZdoaKEGtESnLoHFMb9bvqdwXjyUuRK6DbEoYz8PYpZ8W\"\n",
            "            },\n",
            "            \"protein\": {\n",
            "                \"class\": \"File\",\n",
            "                \"filepath\": \"7n9g.pdb\",\n",
            "                \"ipfs\": \"QmUWCBTqbRaKkPXQ3M14NkUuM4TEwfhVfrqLNoBB7syyyd\"\n",
            "            }\n",
            "        },\n",
            "        \"state\": \"completed\",\n",
            "        \"tool\": {\n",
            "            \"ipfs\": \"QmZ2HarAgwZGjc3LBx9mWNwAQkPWiHMignqKup1ckp8NhB\",\n",
            "            \"name\": \"equibind\"\n",
            "        }\n",
            "    }\n",
            "]\n"
          ]
        }
      ]
    }
  ]
}