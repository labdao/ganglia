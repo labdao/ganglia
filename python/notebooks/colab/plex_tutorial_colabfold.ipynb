{
  "nbformat": 4,
  "nbformat_minor": 0,
  "metadata": {
    "colab": {
      "provenance": []
    },
    "kernelspec": {
      "name": "python3",
      "display_name": "Python 3"
    },
    "language_info": {
      "name": "python"
    }
  },
  "cells": [
    {
      "cell_type": "markdown",
      "source": [
        "## Install PLEX"
      ],
      "metadata": {
        "id": "s2c3TpEImg_r"
      }
    },
    {
      "cell_type": "code",
      "execution_count": 1,
      "metadata": {
        "colab": {
          "base_uri": "https://localhost:8080/"
        },
        "id": "Hs1hTk0umdD6",
        "outputId": "8c3837a4-140e-485d-e2e7-f25e6d80fd04"
      },
      "outputs": [
        {
          "output_type": "stream",
          "name": "stdout",
          "text": [
            "Collecting PlexLabExchange\n",
            "  Downloading PlexLabExchange-0.8.18-py3-none-manylinux2014_x86_64.whl (26.9 MB)\n",
            "\u001b[2K     \u001b[90m━━━━━━━━━━━━━━━━━━━━━━━━━━━━━━━━━━━━━━━━\u001b[0m \u001b[32m26.9/26.9 MB\u001b[0m \u001b[31m20.1 MB/s\u001b[0m eta \u001b[36m0:00:00\u001b[0m\n",
            "\u001b[?25hInstalling collected packages: PlexLabExchange\n",
            "Successfully installed PlexLabExchange-0.8.18\n"
          ]
        }
      ],
      "source": [
        "!pip install PlexLabExchange"
      ]
    },
    {
      "cell_type": "code",
      "source": [
        "import os\n",
        "\n",
        "cwd = os.getcwd()\n",
        "!mkdir project\n",
        "\n",
        "dir_path = f\"{cwd}/project\""
      ],
      "metadata": {
        "id": "ZF0r7o8wnNrv"
      },
      "execution_count": 2,
      "outputs": []
    },
    {
      "cell_type": "markdown",
      "source": [
        "## Download `.fasta` file"
      ],
      "metadata": {
        "id": "LTOFbSGBm38S"
      }
    },
    {
      "cell_type": "code",
      "source": [
        "!pip install requests\n",
        "\n",
        "import requests\n",
        "\n",
        "def download_file(url, directory, filename=None):\n",
        "    local_filename = filename if filename else url.split('/')[-1]\n",
        "    with requests.get(url, stream=True) as r:\n",
        "        r.raise_for_status()\n",
        "        with open(os.path.join(directory, local_filename), 'wb') as f:\n",
        "            for chunk in r.iter_content(chunk_size=8192):\n",
        "                f.write(chunk)\n",
        "    return local_filename\n",
        "\n",
        "url = 'https://rest.uniprot.org/uniprotkb/P22629.fasta' # Streptavidin\n",
        "\n",
        "fasta_filepath = download_file(url, dir_path)"
      ],
      "metadata": {
        "colab": {
          "base_uri": "https://localhost:8080/"
        },
        "id": "drMqTIxrm805",
        "outputId": "c96c25d9-8c43-439e-92eb-56bf9446201f"
      },
      "execution_count": 3,
      "outputs": [
        {
          "output_type": "stream",
          "name": "stdout",
          "text": [
            "Requirement already satisfied: requests in /usr/local/lib/python3.10/dist-packages (2.27.1)\n",
            "Requirement already satisfied: urllib3<1.27,>=1.21.1 in /usr/local/lib/python3.10/dist-packages (from requests) (1.26.16)\n",
            "Requirement already satisfied: certifi>=2017.4.17 in /usr/local/lib/python3.10/dist-packages (from requests) (2023.5.7)\n",
            "Requirement already satisfied: charset-normalizer~=2.0.0 in /usr/local/lib/python3.10/dist-packages (from requests) (2.0.12)\n",
            "Requirement already satisfied: idna<4,>=2.5 in /usr/local/lib/python3.10/dist-packages (from requests) (3.4)\n"
          ]
        }
      ]
    },
    {
      "cell_type": "markdown",
      "source": [
        "## Fold the protein using ColabFold"
      ],
      "metadata": {
        "id": "hCTgrr1nnDqn"
      }
    },
    {
      "cell_type": "code",
      "source": [
        "from plex import CoreTools, plex_create\n",
        "\n",
        "sequences = [fasta_filepath]\n",
        "\n",
        "initial_io_cid = plex_create(CoreTools.COLABFOLD_MINI.value, dir_path)"
      ],
      "metadata": {
        "colab": {
          "base_uri": "https://localhost:8080/"
        },
        "id": "vXP9OKCVnX1u",
        "outputId": "e1395c30-eab3-450e-b0ac-740e71b08a25"
      },
      "execution_count": 4,
      "outputs": [
        {
          "output_type": "stream",
          "name": "stdout",
          "text": [
            "Plex version (v0.8.3) up to date.\n",
            "Temporary directory created: /tmp/2604ada3-04ec-4d58-9ecc-1e65134c15674117000244\n",
            "Reading tool config:  QmcRH74qfqDBJFku3mEDGxkAf6CSpaHTpdbe1pMkHnbcZD\n",
            "Creating IO entries from input directory:  /content/project\n",
            "Initialized IO file at:  /tmp/2604ada3-04ec-4d58-9ecc-1e65134c15674117000244/io.json\n",
            "Initial IO JSON file CID:  QmUhysTE4aLZNw2ePRMCxHWko868xmQoXnGP25fKM1aofb\n"
          ]
        }
      ]
    },
    {
      "cell_type": "code",
      "source": [
        "from plex import plex_run\n",
        "\n",
        "completed_io_cid, completed_io_filepath = plex_run(initial_io_cid, dir_path)"
      ],
      "metadata": {
        "colab": {
          "base_uri": "https://localhost:8080/"
        },
        "id": "ZWlkedBYnfwo",
        "outputId": "6c547951-8f02-4377-fc7f-d340be603081"
      },
      "execution_count": 5,
      "outputs": [
        {
          "output_type": "stream",
          "name": "stdout",
          "text": [
            "Plex version (v0.8.3) up to date.\n",
            "Created working directory:  /content/project/03ef6ae4-b2ff-424b-894c-05f8fbe48888\n",
            "Initialized IO file at:  /content/project/03ef6ae4-b2ff-424b-894c-05f8fbe48888/io.json\n",
            "Processing IO Entries\n",
            "Starting to process IO entry 0 \n",
            "Job running...\n",
            "Bacalhau job id: ac42f8de-1fea-4e09-9644-75c940bdbd5c \n",
            "\n",
            "Computing default go-libp2p Resource Manager limits based on:\n",
            "    - 'Swarm.ResourceMgr.MaxMemory': \"6.8 GB\"\n",
            "    - 'Swarm.ResourceMgr.MaxFileDescriptors': 524288\n",
            "\n",
            "Applying any user-supplied overrides on top.\n",
            "Run 'ipfs swarm limit all' to see the resulting limits.\n",
            "\n",
            "Success processing IO entry 0 \n",
            "Finished processing, results written to /content/project/03ef6ae4-b2ff-424b-894c-05f8fbe48888/io.json\n",
            "Completed IO JSON CID: QmdnjMsUar6nTqGwgjCwN1Fyjaan4i3zyht9SE9L235YRm\n",
            "2023/07/20 04:50:10 failed to sufficiently increase receive buffer size (was: 208 kiB, wanted: 2048 kiB, got: 416 kiB). See https://github.com/quic-go/quic-go/wiki/UDP-Receive-Buffer-Size for details.\n"
          ]
        }
      ]
    },
    {
      "cell_type": "code",
      "source": [
        "import json\n",
        "\n",
        "with open(completed_io_filepath, 'r') as f:\n",
        "  data = json.load(f)\n",
        "  pretty_data = json.dumps(data, indent=4, sort_keys=True)\n",
        "  print(pretty_data)"
      ],
      "metadata": {
        "colab": {
          "base_uri": "https://localhost:8080/"
        },
        "id": "eUf66N5Anrcf",
        "outputId": "5955377d-4cec-4a6d-a84c-c9d2f958bed3"
      },
      "execution_count": 7,
      "outputs": [
        {
          "output_type": "stream",
          "name": "stdout",
          "text": [
            "[\n",
            "    {\n",
            "        \"errMsg\": \"\",\n",
            "        \"inputs\": {\n",
            "            \"sequence\": {\n",
            "                \"class\": \"File\",\n",
            "                \"filepath\": \"P22629.fasta\",\n",
            "                \"ipfs\": \"QmR3TRtG1EWszHJTpZWZut6VFqzBPWT5KYVJvaMdXFLWXn\"\n",
            "            }\n",
            "        },\n",
            "        \"outputs\": {\n",
            "            \"all_folded_proteins\": {\n",
            "                \"class\": \"Array\",\n",
            "                \"files\": [\n",
            "                    {\n",
            "                        \"class\": \"File\",\n",
            "                        \"filepath\": \"P22629_unrelaxed_rank_1_model_1.pdb\",\n",
            "                        \"ipfs\": \"QmXZHhB7qP1tnJNyR2TeH7m4gB1R5UF84SzvK94eYB9qdL\"\n",
            "                    },\n",
            "                    {\n",
            "                        \"class\": \"File\",\n",
            "                        \"filepath\": \"P22629_unrelaxed_rank_2_model_4.pdb\",\n",
            "                        \"ipfs\": \"QmPWGR36mbm5qptniHxd5KjUQKVn8EFMc57DMJzwcetNnU\"\n",
            "                    },\n",
            "                    {\n",
            "                        \"class\": \"File\",\n",
            "                        \"filepath\": \"P22629_unrelaxed_rank_3_model_3.pdb\",\n",
            "                        \"ipfs\": \"QmXQ1F8xD3TP1qDvU1HDhpuR5JDZvxv1G2udJSdTsimKvH\"\n",
            "                    },\n",
            "                    {\n",
            "                        \"class\": \"File\",\n",
            "                        \"filepath\": \"P22629_unrelaxed_rank_4_model_2.pdb\",\n",
            "                        \"ipfs\": \"QmV4TZJyWbu4CcmLTvD6nKM8YpzDK4fBsiiA3KQkHjW1RG\"\n",
            "                    },\n",
            "                    {\n",
            "                        \"class\": \"File\",\n",
            "                        \"filepath\": \"P22629_unrelaxed_rank_5_model_5.pdb\",\n",
            "                        \"ipfs\": \"QmVHT7nQzmNkxDJsRTJPAFqwqhqEgmD3QBGZpUPneogVqX\"\n",
            "                    }\n",
            "                ]\n",
            "            },\n",
            "            \"best_folded_protein\": {\n",
            "                \"class\": \"File\",\n",
            "                \"filepath\": \"P22629_unrelaxed_rank_1_model_1.pdb\",\n",
            "                \"ipfs\": \"QmTxVHTSUr8kLa9W8yM7KUNth2pNn8m3x6M18x8yiaV2SU\"\n",
            "            }\n",
            "        },\n",
            "        \"state\": \"completed\",\n",
            "        \"tool\": {\n",
            "            \"ipfs\": \"QmcRH74qfqDBJFku3mEDGxkAf6CSpaHTpdbe1pMkHnbcZD\",\n",
            "            \"name\": \"colabfold-mini\"\n",
            "        }\n",
            "    }\n",
            "]\n"
          ]
        }
      ]
    }
  ]
}