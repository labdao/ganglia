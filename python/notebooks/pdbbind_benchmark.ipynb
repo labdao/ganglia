{
 "cells": [
  {
   "cell_type": "markdown",
   "id": "d4e36aca-6d71-410e-97d5-eaac2e02e6c5",
   "metadata": {},
   "source": [
    "# Benchmarking docking and scoring methods with PLEX\n",
    "## Overview\n",
    "In this notebook we are running two docking models against the PDBBind benchmark. \n",
    "* equibind\n",
    "* diffdock\n",
    "\n",
    "We compare the performance of each method using the commonly used RSMD metric for 3D ligand position. \n",
    "Taking these models a step further, we combine their pose prediction capability with existing, ML-based, scoring functions, such as ODDT.\n",
    "\n",
    "## Requirements\n",
    "In order to run this notebook, you will need: \n",
    "* PLEX installed on your device\n",
    "* PDBBind benchmark data downloaded from [Stärk et al.](https://zenodo.org/record/6408497)\n",
    "* PDBBind affinity data downloaded from the official [website](https://pdbbind.oss-cn-hangzhou.aliyuncs.com/download/PDBbind_v2020_plain_text_index.tar.gz)\n",
    "\n",
    "## Learn more \n",
    "Head to our [docs](docs.labdao.xyz) to learn more about how to install, use, and contribute to PLEX."
   ]
  },
  {
   "cell_type": "markdown",
   "id": "e9402f84-3659-4b63-a0f0-d3df7a919825",
   "metadata": {},
   "source": [
    "## PLEX setup"
   ]
  },
  {
   "cell_type": "code",
   "execution_count": null,
   "id": "b73888bf-24ce-4886-8b27-ffa1cf15afbc",
   "metadata": {},
   "outputs": [],
   "source": [
    "import os\n",
    "import sys\n",
    "import importlib\n",
    "\n",
    "# this can disapear once plex is a pip package\n",
    "module_path = os.path.abspath(os.path.join('..'))\n",
    "if module_path not in sys.path:\n",
    "    sys.path.append(module_path)\n",
    "import plex.sdk\n",
    "importlib.reload(plex.sdk)\n",
    "\n",
    "os.environ[\"PLEX_ACCESS_TOKEN\"] = \"mellon\"\n",
    "os.environ[\"PLEX_ENV\"] = \"stage\""
   ]
  },
  {
   "cell_type": "markdown",
   "id": "40c18d5a-6da2-477c-b138-0e273d6998e2",
   "metadata": {},
   "source": [
    "## Running equibind\n",
    "### Generating IO objects for the PDBBind benchmark"
   ]
  },
  {
   "cell_type": "code",
   "execution_count": null,
   "id": "e839567e-5ecc-4631-b451-df814f723977",
   "metadata": {},
   "outputs": [],
   "source": [
    "import csv\n",
    "import os\n",
    "import json\n",
    "\n",
    "def create_pdbind_io_dict(csv_path):\n",
    "    io_data = []\n",
    "    \n",
    "    with open(csv_path, 'r') as csvfile:\n",
    "        csvreader = csv.DictReader(csvfile)\n",
    "        \n",
    "        for row in csvreader:\n",
    "            protein_path = os.path.join(\"/home/ubuntu/\", row['protein_path'])\n",
    "            ligand_path = os.path.join(\"/home/ubuntu/\", row['ligand_description'])\n",
    "            \n",
    "            if not os.path.exists(protein_path) or not os.path.exists(ligand_path):\n",
    "                print(f\"Skipping row {row['complex_name']} due to missing file(s).\")\n",
    "                continue\n",
    "            \n",
    "            entry = {\n",
    "                \"tool\": \"tools/equibind.json\",\n",
    "                \"inputs\": {\n",
    "                    \"protein\": {\n",
    "                        \"class\": \"File\",\n",
    "                        \"filepath\": protein_path\n",
    "                    },\n",
    "                    \"small_molecule\": {\n",
    "                        \"class\": \"File\",\n",
    "                        \"filepath\": ligand_path\n",
    "                    }\n",
    "                },\n",
    "                \"outputs\": {\n",
    "                    \"best_docked_small_molecule\": {\n",
    "                        \"class\": \"File\",\n",
    "                        \"filepath\": \"\"\n",
    "                    },\n",
    "                    \"protein\": {\n",
    "                        \"class\": \"File\",\n",
    "                        \"filepath\": \"\"\n",
    "                    }\n",
    "                },\n",
    "                \"state\": \"created\",\n",
    "                \"errMsg\": \"\"\n",
    "            }\n",
    "            \n",
    "            io_data.append(entry)\n",
    "    \n",
    "    return io_data\n",
    "\n",
    "# Example usage\n",
    "csv_path = '/home/ubuntu/datasets/diffdock_testdata.csv'\n",
    "io_sig = create_pdbind_io_dict(csv_path)\n"
   ]
  },
  {
   "cell_type": "code",
   "execution_count": null,
   "id": "3a7e9dff-3b52-43ef-8256-1b63893fb301",
   "metadata": {},
   "outputs": [],
   "source": [
    "from plex.sdk import run_plex\n",
    "\n",
    "run_plex(io_sig, concurrency=2); # remove semicolon to display outputs"
   ]
  },
  {
   "cell_type": "markdown",
   "id": "296de6e7-b8a6-4329-ad04-f58db7c924ed",
   "metadata": {},
   "source": [
    "### Run statistics"
   ]
  },
  {
   "cell_type": "code",
   "execution_count": null,
   "id": "536e389c-61dc-44b4-9e98-9920220cfd30",
   "metadata": {},
   "outputs": [],
   "source": [
    "# generating statistics on the success rate of the runs\n",
    "import json\n",
    "import pandas as pd\n",
    "\n",
    "def get_state_counts(json_filepath):\n",
    "    # Load the JSON data from the file\n",
    "    with open(json_filepath, 'r') as f:\n",
    "        data = json.load(f)\n",
    "    \n",
    "    # Extract the \"state\" and \"errMsg\" values from each JSON object\n",
    "    state_errMsg_list = [{'state': item['state'], 'errMsg': item['errMsg']} for item in data]\n",
    "    \n",
    "    # Convert the list of dictionaries to a Pandas DataFrame\n",
    "    df = pd.DataFrame(state_errMsg_list)\n",
    "    \n",
    "    # Count the occurrences of each unique \"state\" and \"errMsg\" combination\n",
    "    counts_df = df.groupby(['state', 'errMsg']).size().reset_index(name='count')\n",
    "    \n",
    "    return counts_df, df\n",
    "\n",
    "# Example usage\n",
    "json_filepath = '/home/ubuntu/plex/0e1b24c5-870e-4a58-9b61-a302cecbbcd0/io.json'\n",
    "state_counts_df, complete_df = get_state_counts(json_filepath)\n",
    "print(state_counts_df)"
   ]
  },
  {
   "cell_type": "code",
   "execution_count": null,
   "id": "299d9362-5e13-4e14-8be4-3b7606ce76e7",
   "metadata": {},
   "outputs": [],
   "source": [
    "complete_df[complete_df['state'] == 'failed']"
   ]
  },
  {
   "cell_type": "markdown",
   "id": "12298099-f6e4-4d33-9273-883d0c289df9",
   "metadata": {},
   "source": [
    "### Resubmitting failed tasks"
   ]
  },
  {
   "cell_type": "code",
   "execution_count": null,
   "id": "261c97f5-46d4-4f53-896f-5506a3f45f29",
   "metadata": {},
   "outputs": [],
   "source": [
    "def resubmit_failed_states(json_filepath):\n",
    "    # Load the JSON data from the file\n",
    "    with open(json_filepath, 'r') as f:\n",
    "        data = json.load(f)\n",
    "    \n",
    "    # Filter the JSON list to include only entries with a failed state\n",
    "    failed_entries = [entry for entry in data if entry['state'] == 'failed']\n",
    "    \n",
    "    # Create the io_sig object for each failed entry\n",
    "    io_sig = []\n",
    "    for entry in failed_entries:\n",
    "        # Extract the relevant information from the JSON entry\n",
    "        tool = entry['tool']\n",
    "        inputs = entry['inputs']\n",
    "        outputs = entry['outputs']\n",
    "        state = 'created'  # Set the state to 'created' for resubmission\n",
    "        errMsg = ''\n",
    "        \n",
    "        # Create a new entry for the io_sig object\n",
    "        new_entry = {\n",
    "            'tool': tool,\n",
    "            'inputs': inputs,\n",
    "            'outputs': outputs,\n",
    "            'state': state,\n",
    "            'errMsg': errMsg\n",
    "        }\n",
    "        \n",
    "        # Append the new entry to the io_sig object\n",
    "        io_sig.append(new_entry)\n",
    "    \n",
    "    return io_sig\n",
    "\n",
    "# Example usage\n",
    "json_filepath = '/home/ubuntu/plex/0e1b24c5-870e-4a58-9b61-a302cecbbcd0/io.json'\n",
    "io_sig = resubmit_failed_states(json_filepath)\n"
   ]
  },
  {
   "cell_type": "code",
   "execution_count": null,
   "id": "c7daf946-ba72-44bc-90b8-6087831d137d",
   "metadata": {},
   "outputs": [],
   "source": [
    "from plex.sdk import run_plex\n",
    "\n",
    "run_plex(io_sig, concurrency=6)"
   ]
  },
  {
   "cell_type": "code",
   "execution_count": null,
   "id": "4d4d86f8-6af4-4d93-97c8-7d331f036cf8",
   "metadata": {},
   "outputs": [],
   "source": [
    "print(complete_df)"
   ]
  },
  {
   "cell_type": "code",
   "execution_count": null,
   "id": "12218676-3d47-47de-9ae1-e3455e0c888b",
   "metadata": {},
   "outputs": [],
   "source": [
    "run_plex(io_sig, concurrency=6)"
   ]
  },
  {
   "cell_type": "markdown",
   "id": "cf70dd6e-3081-409e-a9a2-3f96ceb661fa",
   "metadata": {},
   "source": [
    "## Benchmarking predicted Binding Pose"
   ]
  },
  {
   "cell_type": "markdown",
   "id": "b93a421a-9273-4006-9f42-02de487c8396",
   "metadata": {},
   "source": [
    "## Benchmarking predicted Binding Affinity\n",
    "\n",
    "### Preparing PDBBind Affinity data"
   ]
  },
  {
   "cell_type": "code",
   "execution_count": 41,
   "id": "dff8398c-a60f-4fae-b17d-b6b645d2679c",
   "metadata": {},
   "outputs": [
    {
     "name": "stdout",
     "output_type": "stream",
     "text": [
      "--2023-05-04 04:16:35--  https://bafybeicl4suczrx7ql2aayegfz6fjg4fs5kplkl2eaj4n4ieheimscrzoi.ipfs.dweb.link/INDEX_general_PL_data.2020\n",
      "Resolving bafybeicl4suczrx7ql2aayegfz6fjg4fs5kplkl2eaj4n4ieheimscrzoi.ipfs.dweb.link (bafybeicl4suczrx7ql2aayegfz6fjg4fs5kplkl2eaj4n4ieheimscrzoi.ipfs.dweb.link)... 209.94.90.1, 2602:fea2:2::1\n",
      "Connecting to bafybeicl4suczrx7ql2aayegfz6fjg4fs5kplkl2eaj4n4ieheimscrzoi.ipfs.dweb.link (bafybeicl4suczrx7ql2aayegfz6fjg4fs5kplkl2eaj4n4ieheimscrzoi.ipfs.dweb.link)|209.94.90.1|:443... ^C\n",
      "     PDB_code Kd/Ki\n",
      "3zzf     2.20    //\n",
      "3gww     2.46    //\n",
      "1w8l     1.80    //\n",
      "3fqa     2.35    //\n",
      "1zsb     2.00    //\n"
     ]
    },
    {
     "name": "stderr",
     "output_type": "stream",
     "text": [
      "/tmp/ipykernel_520819/1245211774.py:7: FutureWarning: The error_bad_lines argument has been deprecated and will be removed in a future version. Use on_bad_lines in the future.\n",
      "\n",
      "\n",
      "  df = pd.read_csv(plain_text_file, delim_whitespace=True, skiprows=6, header=None, names=column_names, error_bad_lines=False)\n",
      "b'Skipping line 2430: expected 8 fields, saw 9\\nSkipping line 3421: expected 8 fields, saw 9\\nSkipping line 3508: expected 8 fields, saw 9\\nSkipping line 8591: expected 8 fields, saw 9\\nSkipping line 9201: expected 8 fields, saw 9\\nSkipping line 17133: expected 8 fields, saw 9\\nSkipping line 17383: expected 8 fields, saw 9\\nSkipping line 17434: expected 8 fields, saw 9\\nSkipping line 17850: expected 8 fields, saw 9\\nSkipping line 18069: expected 8 fields, saw 9\\nSkipping line 18293: expected 8 fields, saw 9\\nSkipping line 18306: expected 8 fields, saw 9\\nSkipping line 18368: expected 8 fields, saw 9\\nSkipping line 18749: expected 8 fields, saw 9\\nSkipping line 19393: expected 8 fields, saw 9\\n'\n"
     ]
    }
   ],
   "source": [
    "# \n",
    "!wget https://bafybeicl4suczrx7ql2aayegfz6fjg4fs5kplkl2eaj4n4ieheimscrzoi.ipfs.dweb.link/INDEX_general_PL_data.2020"
   ]
  },
  {
   "cell_type": "code",
   "execution_count": 42,
   "id": "759df289-edd0-40bc-be61-026154065d2d",
   "metadata": {},
   "outputs": [
    {
     "name": "stdout",
     "output_type": "stream",
     "text": [
      "     PDB_code  resolution  release_year   -logKd/Ki Kd/Ki reference  \\\n",
      "3zzf     2.20        2012          0.40    Ki=400mM    //  3zzf.pdf   \n",
      "3gww     2.46        2009          0.45  IC50=355mM    //  3gwu.pdf   \n",
      "1w8l     1.80        2004          0.49    Ki=320mM    //  1w8l.pdf   \n",
      "3fqa     2.35        2009          0.49  IC50=320mM    //  3fq7.pdf   \n",
      "1zsb     2.00        1996          0.60    Kd=250mM    //  1zsb.pdf   \n",
      "\n",
      "     ligand_name  \n",
      "3zzf       (NLG)  \n",
      "3gww       (SFX)  \n",
      "1w8l       (1P3)  \n",
      "3fqa   (GAB&PMP)  \n",
      "1zsb       (AZM)  \n"
     ]
    },
    {
     "name": "stderr",
     "output_type": "stream",
     "text": [
      "/tmp/ipykernel_520819/3942543180.py:5: FutureWarning: The error_bad_lines argument has been deprecated and will be removed in a future version. Use on_bad_lines in the future.\n",
      "\n",
      "\n",
      "  df = pd.read_csv(plain_text_file, delim_whitespace=True, skiprows=6, header=None, names=column_names, error_bad_lines=False)\n",
      "b'Skipping line 2430: expected 8 fields, saw 9\\nSkipping line 3421: expected 8 fields, saw 9\\nSkipping line 3508: expected 8 fields, saw 9\\nSkipping line 8591: expected 8 fields, saw 9\\nSkipping line 9201: expected 8 fields, saw 9\\nSkipping line 17133: expected 8 fields, saw 9\\nSkipping line 17383: expected 8 fields, saw 9\\nSkipping line 17434: expected 8 fields, saw 9\\nSkipping line 17850: expected 8 fields, saw 9\\nSkipping line 18069: expected 8 fields, saw 9\\nSkipping line 18293: expected 8 fields, saw 9\\nSkipping line 18306: expected 8 fields, saw 9\\nSkipping line 18368: expected 8 fields, saw 9\\nSkipping line 18749: expected 8 fields, saw 9\\nSkipping line 19393: expected 8 fields, saw 9\\n'\n"
     ]
    }
   ],
   "source": [
    "plain_text_file = 'INDEX_general_PL_data.2020'\n",
    "\n",
    "# Read the plain text file into a pandas DataFrame\n",
    "column_names = [\"PDB_code\", \"resolution\", \"release_year\", \"-logKd/Ki\", \"Kd/Ki\", \"reference\", \"ligand_name\"]\n",
    "df = pd.read_csv(plain_text_file, delim_whitespace=True, skiprows=6, header=None, names=column_names, error_bad_lines=False)\n",
    "\n",
    "# Select the first and fifth columns\n",
    "selected_columns = df[[\"PDB_code\", \"Kd/Ki\"]]\n",
    "\n",
    "# Display the selected data\n",
    "print(df.head())"
   ]
  }
 ],
 "metadata": {
  "kernelspec": {
   "display_name": "Python 3 (ipykernel)",
   "language": "python",
   "name": "python3"
  },
  "language_info": {
   "codemirror_mode": {
    "name": "ipython",
    "version": 3
   },
   "file_extension": ".py",
   "mimetype": "text/x-python",
   "name": "python",
   "nbconvert_exporter": "python",
   "pygments_lexer": "ipython3",
   "version": "3.9.13"
  }
 },
 "nbformat": 4,
 "nbformat_minor": 5
}
