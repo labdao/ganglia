{
 "cells": [
  {
   "attachments": {},
   "cell_type": "markdown",
   "metadata": {},
   "source": [
    "PLEX is a software client that supports an open ecosystem for generating scientific data."
   ]
  },
  {
   "cell_type": "code",
   "execution_count": null,
   "metadata": {},
   "outputs": [],
   "source": [
    "# Run this code to import the Python PLEX module\n",
    "\n",
    "import os\n",
    "import sys\n",
    "import importlib\n",
    "\n",
    "module_path = os.path.abspath(os.path.join('..'))\n",
    "if module_path not in sys.path:\n",
    "    sys.path.append(module_path)\n",
    "import plex.sdk\n",
    "importlib.reload(plex.sdk)\n",
    "\n",
    "cwd = os.getcwd()\n",
    "PLEX_DIR = os.path.dirname(os.path.dirname(cwd))\n",
    "\n",
    "os.environ[\"PLEX_ACCESS_TOKEN\"] = \"mellon\" # speak friend and enter"
   ]
  },
  {
   "attachments": {},
   "cell_type": "markdown",
   "metadata": {},
   "source": [
    "PLEX uses JSON and Docker to make scientific tools easy to run."
   ]
  },
  {
   "cell_type": "code",
   "execution_count": null,
   "metadata": {},
   "outputs": [],
   "source": [
    "# Run this code to use the Equibind small molecule docking software\n",
    "# To learn more about the science behind small molecule docking visit https://docs.labdao.xyz/small-molecule-binding/overview.\n",
    "\n",
    "from plex.sdk import run_plex\n",
    "\n",
    "\n",
    "io_graph = {\n",
    "    \"tool\": \"tools/equibind.json\",\n",
    "        \"inputs\": {\n",
    "            \"protein\": {\n",
    "                \"class\": \"File\",\n",
    "                \"filepath\": f\"{PLEX_DIR}/testdata/binding/pdbbind_processed_size2/6d08/6d08_protein_processed.pdb\"\n",
    "        },\n",
    "        \"small_molecule\": {\n",
    "          \"class\": \"File\",\n",
    "          \"filepath\": f\"{PLEX_DIR}/testdata/binding/pdbbind_processed_size2/6d08/6d08_ligand.sdf\"\n",
    "        }\n",
    "      },\n",
    "      \"outputs\": {\n",
    "        \"best_docked_small_molecule\": {\n",
    "          \"class\": \"File\",\n",
    "          \"filepath\": \"\"\n",
    "        },\n",
    "        \"protein\": {\n",
    "          \"class\": \"File\",\n",
    "          \"filepath\": \"\"\n",
    "        }\n",
    "      },\n",
    "      \n",
    "\n",
    "      \"state\": \"created\",\n",
    "      \"errMsg\": \"\"\n",
    "    },\n",
    "\n",
    "run_plex()"
   ]
  },
  {
   "attachments": {},
   "cell_type": "markdown",
   "metadata": {},
   "source": [
    "."
   ]
  },
  {
   "attachments": {},
   "cell_type": "markdown",
   "metadata": {},
   "source": []
  },
  {
   "attachments": {},
   "cell_type": "markdown",
   "metadata": {},
   "source": [
    "r"
   ]
  },
  {
   "attachments": {},
   "cell_type": "markdown",
   "metadata": {},
   "source": [
    "PLEX uses an open-source storage system called IPFS. IPFS deterministically hashes every piece of data into a unique content identifier (CID). CIDs maximize the shareability and reproducibility of scientific computing. "
   ]
  }
 ],
 "metadata": {
  "language_info": {
   "name": "python"
  },
  "orig_nbformat": 4
 },
 "nbformat": 4,
 "nbformat_minor": 2
}
