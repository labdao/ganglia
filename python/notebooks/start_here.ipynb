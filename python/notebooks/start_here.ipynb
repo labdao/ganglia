{
 "cells": [
  {
   "attachments": {},
   "cell_type": "markdown",
   "metadata": {},
   "source": [
    "PLEX is a software client that supports an open ecosystem for generating scientific data."
   ]
  },
  {
   "attachments": {},
   "cell_type": "markdown",
   "metadata": {},
   "source": [
    "PLEX uses JSON and Docker to make scientific tools easy to run."
   ]
  },
  {
   "cell_type": "code",
   "execution_count": null,
   "metadata": {},
   "outputs": [],
   "source": [
    "# import plex\n",
    "\n",
    "from plex import CoreTools, plex_init, plex_run\n"
   ]
  },
  {
   "cell_type": "code",
   "execution_count": 18,
   "metadata": {},
   "outputs": [
    {
     "name": "stdout",
     "output_type": "stream",
     "text": [
      "Plex version (v0.8.1) up to date.\n",
      "Pinned IO JSON CID: QmShD7ApeDBUqqy98RuuKdyv8AdmBsvyZqqxSLAEvB9EKP\n"
     ]
    }
   ],
   "source": [
    "protein_paths = [\"QmUWCBTqbRaKkPXQ3M14NkUuM4TEwfhVfrqLNoBB7syyyd/7n9g.pdb\"]\n",
    "small_molecule_paths = [\"QmV6qVzdQLNM6SyEDB3rJ5R5BYJsQwQTn1fjmPzvCCkCYz/ZINC000003986735.sdf\"]\n",
    "\n",
    "initial_io_json_cid = plex_init(\n",
    "    CoreTools.EQUIBIND.value,\n",
    "    plex_path=\"./plex\",\n",
    "    protein=protein_paths,\n",
    "    small_molecule=small_molecule_paths)"
   ]
  },
  {
   "cell_type": "code",
   "execution_count": 19,
   "metadata": {},
   "outputs": [
    {
     "name": "stdout",
     "output_type": "stream",
     "text": [
      "Plex version (v0.8.1) up to date.\n",
      "Created working directory:  /Users/mcmenemy/code/plex/jobs/ec782cc6-adfc-45ff-abd2-5e54a51664a9\n",
      "Initialized IO file at:  /Users/mcmenemy/code/plex/jobs/ec782cc6-adfc-45ff-abd2-5e54a51664a9/io.json\n",
      "Processing IO Entries\n",
      "Starting to process IO entry 0 \n",
      "Job running...\n",
      "Bacalhau job id: 36835c55-c1fd-4e6a-9910-dbe360aa0167 \n",
      "\n",
      "Computing default go-libp2p Resource Manager limits based on:\n",
      "    - 'Swarm.ResourceMgr.MaxMemory': \"8.6 GB\"\n",
      "    - 'Swarm.ResourceMgr.MaxFileDescriptors': 30720\n",
      "\n",
      "Applying any user-supplied overrides on top.\n",
      "Run 'ipfs swarm limit all' to see the resulting limits.\n",
      "\n",
      "Success processing IO entry 0 \n",
      "Finished processing, results written to /Users/mcmenemy/code/plex/jobs/ec782cc6-adfc-45ff-abd2-5e54a51664a9/io.json\n",
      "Completed IO JSON CID: QmVG4mT2kkPSb6wzT5QxYZndB5VbKLU8nH2dErZW2zxae6\n"
     ]
    }
   ],
   "source": [
    "\n",
    "completed_io_json_cid, io_json_local_filepath = plex_run(initial_io_json_cid, plex_path=\"./plex\")\n"
   ]
  },
  {
   "cell_type": "code",
   "execution_count": 16,
   "metadata": {},
   "outputs": [
    {
     "name": "stdout",
     "output_type": "stream",
     "text": [
      "[\n",
      "    {\n",
      "        \"errMsg\": \"no output data found for: [best_docked_small_molecule]\",\n",
      "        \"inputs\": {\n",
      "            \"protein\": {\n",
      "                \"class\": \"File\",\n",
      "                \"filepath\": \"ZINC000003986735.sdf\",\n",
      "                \"ipfs\": \"QmV6qVzdQLNM6SyEDB3rJ5R5BYJsQwQTn1fjmPzvCCkCYz\"\n",
      "            },\n",
      "            \"small_molecule\": {\n",
      "                \"class\": \"File\",\n",
      "                \"filepath\": \"7n9g.pdb\",\n",
      "                \"ipfs\": \"QmUWCBTqbRaKkPXQ3M14NkUuM4TEwfhVfrqLNoBB7syyyd\"\n",
      "            }\n",
      "        },\n",
      "        \"outputs\": {\n",
      "            \"best_docked_small_molecule\": {\n",
      "                \"class\": \"File\",\n",
      "                \"filepath\": \"\",\n",
      "                \"ipfs\": \"\"\n",
      "            },\n",
      "            \"protein\": {\n",
      "                \"class\": \"File\",\n",
      "                \"filepath\": \"7n9g.pdb\",\n",
      "                \"ipfs\": \"QmUWCBTqbRaKkPXQ3M14NkUuM4TEwfhVfrqLNoBB7syyyd\"\n",
      "            }\n",
      "        },\n",
      "        \"state\": \"failed\",\n",
      "        \"tool\": {\n",
      "            \"ipfs\": \"QmZ2HarAgwZGjc3LBx9mWNwAQkPWiHMignqKup1ckp8NhB\",\n",
      "            \"name\": \"equibind\"\n",
      "        }\n",
      "    }\n",
      "]\n"
     ]
    }
   ],
   "source": [
    "# Run the below code to see how PLEX stored the CID for every input and output\n",
    "\n",
    "import json\n",
    "\n",
    "with open(io_json_local_filepath, 'r') as f:\n",
    "    data = json.load(f)\n",
    "    pretty_data = json.dumps(data, indent=4, sort_keys=True)\n",
    "    print(pretty_data)\n"
   ]
  },
  {
   "attachments": {},
   "cell_type": "markdown",
   "metadata": {},
   "source": [
    "This software is just getting started. Visit our Charmverse to see how you can contribute. Also, please star the [PLEX Github](https://github.com/labdao/plex) if you are excited about decentralized science. "
   ]
  }
 ],
 "metadata": {
  "kernelspec": {
   "display_name": "Python 3 (ipykernel)",
   "language": "python",
   "name": "python3"
  },
  "language_info": {
   "codemirror_mode": {
    "name": "ipython",
    "version": 3
   },
   "file_extension": ".py",
   "mimetype": "text/x-python",
   "name": "python",
   "nbconvert_exporter": "python",
   "pygments_lexer": "ipython3",
   "version": "3.9.12"
  }
 },
 "nbformat": 4,
 "nbformat_minor": 4
}
