{
 "cells": [
  {
   "attachments": {},
   "cell_type": "markdown",
   "metadata": {},
   "source": [
    "PLEX is a software client that supports an open ecosystem for generating scientific data."
   ]
  },
  {
   "cell_type": "code",
   "execution_count": null,
   "metadata": {},
   "outputs": [],
   "source": [
    "# Run this code to import the Python PLEX module\n",
    "\n",
    "import os\n",
    "import sys\n",
    "import importlib\n",
    "\n",
    "module_path = os.path.abspath(os.path.join('..'))\n",
    "if module_path not in sys.path:\n",
    "    sys.path.append(module_path)\n",
    "import plex.sdk\n",
    "importlib.reload(plex.sdk)\n",
    "\n",
    "cwd = os.getcwd()\n",
    "PLEX_DIR = os.path.dirname(os.path.dirname(cwd))\n",
    "\n",
    "os.environ[\"PLEX_ACCESS_TOKEN\"] = \"mellon\" # speak friend and enter"
   ]
  },
  {
   "attachments": {},
   "cell_type": "markdown",
   "metadata": {},
   "source": [
    "PLEX uses JSON and Docker to make scientific tools easy to run."
   ]
  },
  {
   "cell_type": "code",
   "execution_count": null,
   "metadata": {},
   "outputs": [],
   "source": [
    "# Run this code to use the Equibind small molecule docking software\n",
    "# To learn more about the science behind small molecule docking visit https://docs.labdao.xyz/small-molecule-binding/overview.\n",
    "\n",
    "from plex.sdk import run_plex\n",
    "\n",
    "\n",
    "io_graph = [{\n",
    "    \"tool\": \"tools/equibind.json\",\n",
    "        \"inputs\": {\n",
    "            \"protein\": {\n",
    "                \"class\": \"File\",\n",
    "                \"filepath\": f\"{PLEX_DIR}/testdata/binding/pdbbind_processed_size2/6d08/6d08_protein_processed.pdb\"\n",
    "        },\n",
    "        \"small_molecule\": {\n",
    "          \"class\": \"File\",\n",
    "          \"filepath\": f\"{PLEX_DIR}/testdata/binding/pdbbind_processed_size2/6d08/6d08_ligand.sdf\"\n",
    "        }\n",
    "      },\n",
    "      \"outputs\": {\n",
    "        \"best_docked_small_molecule\": {\n",
    "          \"class\": \"File\",\n",
    "          \"filepath\": \"\"\n",
    "        },\n",
    "        \"protein\": {\n",
    "          \"class\": \"File\",\n",
    "          \"filepath\": \"\"\n",
    "        }\n",
    "      },     \n",
    "      \"state\": \"created\",\n",
    "      \"errMsg\": \"\"\n",
    "}]\n",
    "\n",
    "io_json_path = run_plex(io_graph)"
   ]
  },
  {
   "attachments": {},
   "cell_type": "markdown",
   "metadata": {},
   "source": [
    "PLEX uses an open-source storage system called IPFS. IPFS deterministically hashes every piece of data into a unique content identifier (CID). CIDs maximize the shareability and reproducibility of scientific computing."
   ]
  },
  {
   "cell_type": "code",
   "execution_count": null,
   "metadata": {},
   "outputs": [],
   "source": [
    "# Run the below code to see how PLEX stored the CID for every input and output\n",
    "\n",
    "import json\n",
    "\n",
    "try:\n",
    "    with open(io_json_path, 'r') as f:\n",
    "        data = json.load(f)\n",
    "        pretty_data = json.dumps(data, indent=4, sort_keys=True)\n",
    "        print(pretty_data)\n",
    "except FileNotFoundError:\n",
    "    print(f\"The file {io_json_path} does not exist.\")\n",
    "except json.JSONDecodeError:\n",
    "    print(f\"The file {io_json_path} is not a valid JSON file.\")\n"
   ]
  },
  {
   "attachments": {},
   "cell_type": "markdown",
   "metadata": {},
   "source": [
    "This software is just getting started. Visit our Charmverse to see how you can contribute. Also, please star the [PLEX Github](https://github.com/labdao/plex) if you found this program promising. "
   ]
  }
 ],
 "metadata": {
  "language_info": {
   "name": "python"
  },
  "orig_nbformat": 4
 },
 "nbformat": 4,
 "nbformat_minor": 2
}
