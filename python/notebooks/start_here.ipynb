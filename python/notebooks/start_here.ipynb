{
 "cells": [
  {
   "attachments": {},
   "cell_type": "markdown",
   "metadata": {},
   "source": [
    "PLEX is a software client that supports an open ecosystem for generating scientific data."
   ]
  },
  {
   "cell_type": "code",
   "execution_count": 2,
   "metadata": {},
   "outputs": [],
   "source": [
    "# Run this code to import the Python PLEX module\n",
    "\n",
    "import os\n",
    "import sys\n",
    "import importlib\n",
    "\n",
    "module_path = os.path.abspath(os.path.join('..'))\n",
    "if module_path not in sys.path:\n",
    "    sys.path.append(module_path)\n",
    "import plex.sdk\n",
    "importlib.reload(plex.sdk)\n",
    "\n",
    "cwd = os.getcwd()\n",
    "PLEX_DIR = os.path.dirname(os.path.dirname(cwd))\n",
    "\n",
    "os.environ[\"PLEX_ACCESS_TOKEN\"] = \"mellon\" # speak friend and enter"
   ]
  },
  {
   "attachments": {},
   "cell_type": "markdown",
   "metadata": {},
   "source": [
    "PLEX uses JSON and Docker to make scientific tools easy to run."
   ]
  },
  {
   "cell_type": "code",
   "execution_count": 3,
   "metadata": {},
   "outputs": [
    {
     "name": "stdout",
     "output_type": "stream",
     "text": [
      "Plex version (v0.7.0) up to date.\n",
      "toolPath \n",
      "Running IPWL io path\n",
      "Created working directory:  /Users/aakaash/Desktop/code/OPENLAB/plex/c562a696-1b4b-4427-970f-00dc4e10ad21\n",
      "Reading IO Entries from:  /var/folders/v3/nwpptsrj2wx7rddqg0wd33rr0000gn/T/tmpruf889x6/io_data.json\n",
      "Initialized IO file at:  /Users/aakaash/Desktop/code/OPENLAB/plex/c562a696-1b4b-4427-970f-00dc4e10ad21/io.json\n",
      "Processing IO Entries\n",
      "/Users/aakaash/Desktop/code/OPENLAB/plex/c562a696-1b4b-4427-970f-00dc4e10ad21\n",
      "/Users/aakaash/Desktop/code/OPENLAB/plex/c562a696-1b4b-4427-970f-00dc4e10ad21/io.json\n",
      "Starting to process IO entry 0 \n",
      "Job running...\n",
      "Bacalhau job id: 3b105e78-b59a-45c2-a456-c9c6b97c3adb \n",
      "////🌱____////\n",
      "////_🌱___////\n",
      "Computing default go-libp2p Resource Manager limits based on:\n",
      "    - 'Swarm.ResourceMgr.MaxMemory': \"8.6 GB\"\n",
      "    - 'Swarm.ResourceMgr.MaxFileDescriptors': 30720\n",
      "\n",
      "Applying any user-supplied overrides on top.\n",
      "Run 'ipfs swarm limit all' to see the resulting limits.\n",
      "\n",
      "Success processing IO entry 0 \n",
      "Finished processing, results written to /Users/aakaash/Desktop/code/OPENLAB/plex/c562a696-1b4b-4427-970f-00dc4e10ad21/io.json\n"
     ]
    }
   ],
   "source": [
    "# Run this code to use the Equibind small molecule docking software\n",
    "# To learn more about the science behind small molecule docking visit https://docs.labdao.xyz/small-molecule-binding/overview.\n",
    "\n",
    "from plex.sdk import run_plex\n",
    "\n",
    "io_graph = [{\n",
    "    \"tool\": \"tools/equibind.json\",\n",
    "        \"inputs\": {\n",
    "            \"protein\": {\n",
    "                \"class\": \"File\",\n",
    "                \"filepath\": f\"{PLEX_DIR}/testdata/binding/pdbbind_processed_size2/6d08/6d08_protein_processed.pdb\"\n",
    "        },\n",
    "        \"small_molecule\": {\n",
    "          \"class\": \"File\",\n",
    "          \"filepath\": f\"{PLEX_DIR}/testdata/binding/pdbbind_processed_size2/6d08/6d08_ligand.sdf\"\n",
    "        }\n",
    "      },\n",
    "      \"outputs\": {\n",
    "        \"best_docked_small_molecule\": {\n",
    "          \"class\": \"File\",\n",
    "          \"filepath\": \"\"\n",
    "        },\n",
    "        \"protein\": {\n",
    "          \"class\": \"File\",\n",
    "          \"filepath\": \"\"\n",
    "        }\n",
    "      },     \n",
    "      \"state\": \"created\",\n",
    "      \"errMsg\": \"\"\n",
    "}]\n",
    "\n",
    "io_json_path = run_plex(io_graph)"
   ]
  },
  {
   "attachments": {},
   "cell_type": "markdown",
   "metadata": {},
   "source": [
    "PLEX uses an open-source storage system called IPFS. IPFS deterministically hashes every piece of data into a unique content identifier (CID). CIDs maximize the shareability and reproducibility of scientific computing."
   ]
  },
  {
   "cell_type": "code",
   "execution_count": 4,
   "metadata": {},
   "outputs": [
    {
     "name": "stdout",
     "output_type": "stream",
     "text": [
      "[\n",
      "    {\n",
      "        \"errMsg\": \"\",\n",
      "        \"inputs\": {\n",
      "            \"protein\": {\n",
      "                \"class\": \"File\",\n",
      "                \"filepath\": \"/Users/aakaash/Desktop/code/OPENLAB/plex/testdata/binding/pdbbind_processed_size2/6d08/6d08_protein_processed.pdb\",\n",
      "                \"ipfs\": \"\"\n",
      "            },\n",
      "            \"small_molecule\": {\n",
      "                \"class\": \"File\",\n",
      "                \"filepath\": \"/Users/aakaash/Desktop/code/OPENLAB/plex/testdata/binding/pdbbind_processed_size2/6d08/6d08_ligand.sdf\",\n",
      "                \"ipfs\": \"\"\n",
      "            }\n",
      "        },\n",
      "        \"outputs\": {\n",
      "            \"best_docked_small_molecule\": {\n",
      "                \"class\": \"File\",\n",
      "                \"filepath\": \"/Users/aakaash/Desktop/code/OPENLAB/plex/c562a696-1b4b-4427-970f-00dc4e10ad21/entry-0/outputs/6d08_protein_processed_6d08_ligand_docked.sdf\",\n",
      "                \"ipfs\": \"Qmdu8RnLAboEf226TG2Bb9UEzwhAK4sYFReu2f7BHo8dyD\"\n",
      "            },\n",
      "            \"protein\": {\n",
      "                \"class\": \"File\",\n",
      "                \"filepath\": \"/Users/aakaash/Desktop/code/OPENLAB/plex/c562a696-1b4b-4427-970f-00dc4e10ad21/entry-0/outputs/6d08_protein_processed.pdb\",\n",
      "                \"ipfs\": \"QmWbe5RirkYQMwf46NwvBHap2gzVRYRK5fB1ivGNAnAnSd\"\n",
      "            }\n",
      "        },\n",
      "        \"state\": \"completed\",\n",
      "        \"tool\": \"tools/equibind.json\"\n",
      "    }\n",
      "]\n"
     ]
    }
   ],
   "source": [
    "# Run the below code to see how PLEX stored the CID for every input and output\n",
    "\n",
    "import json\n",
    "\n",
    "try:\n",
    "    with open(io_json_path, 'r') as f:\n",
    "        data = json.load(f)\n",
    "        pretty_data = json.dumps(data, indent=4, sort_keys=True)\n",
    "        print(pretty_data)\n",
    "except FileNotFoundError:\n",
    "    print(f\"The file {io_json_path} does not exist.\")\n",
    "except json.JSONDecodeError:\n",
    "    print(f\"The file {io_json_path} is not a valid JSON file.\")\n"
   ]
  },
  {
   "attachments": {},
   "cell_type": "markdown",
   "metadata": {},
   "source": [
    "This software is just getting started. Visit our Charmverse to see how you can contribute. Also, please star the [PLEX Github](https://github.com/labdao/plex) if you are excited about decentralized science. "
   ]
  }
 ],
 "metadata": {
  "kernelspec": {
   "display_name": "Python 3",
   "language": "python",
   "name": "python3"
  },
  "language_info": {
   "codemirror_mode": {
    "name": "ipython",
    "version": 3
   },
   "file_extension": ".py",
   "mimetype": "text/x-python",
   "name": "python",
   "nbconvert_exporter": "python",
   "pygments_lexer": "ipython3",
   "version": "3.11.3"
  },
  "orig_nbformat": 4
 },
 "nbformat": 4,
 "nbformat_minor": 2
}
