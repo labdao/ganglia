{
 "cells": [
  {
   "attachments": {},
   "cell_type": "markdown",
   "metadata": {},
   "source": [
    "PLEX is a software client that supports an open ecosystem for generating scientific data."
   ]
  },
  {
   "cell_type": "code",
   "execution_count": 18,
   "metadata": {},
   "outputs": [],
   "source": [
    "# Run this code to setup the Python PLEX module\n",
    "\n",
    "import os\n",
    "\n",
    "# PLEX_DIR should be the path to the plex repository\n",
    "PLEX_DIR = os.environ[\"PLEX_DIR\"]\n",
    "\n",
    "# output files will be in the users home directory\n",
    "os.environ[\"PLEX_WORK_DIR\"] = os.environ[\"HOME\"]\n",
    "\n",
    "# speak friend and enter\n",
    "os.environ[\"PLEX_ACCESS_TOKEN\"] = \"mellon\""
   ]
  },
  {
   "attachments": {},
   "cell_type": "markdown",
   "metadata": {},
   "source": [
    "PLEX uses JSON and Docker to make scientific tools easy to run."
   ]
  },
  {
   "cell_type": "code",
   "execution_count": 19,
   "metadata": {},
   "outputs": [],
   "source": [
    "# Run this code to use the Equibind small molecule docking software\n",
    "# To learn more about the science behind small molecule docking visit https://docs.labdao.xyz/small-molecule-binding/overview.\n",
    "\n",
    "from plex.sdk import plex_create, plex_run\n",
    "\n",
    "tool_filepath = f\"{PLEX_DIR}/tools/equibind.json\"\n",
    "input_dir = f\"{PLEX_DIR}/testdata/binding/abl/\"\n",
    "\n",
    "initial_io_json_cid = plex_create(tool_filepath, input_dir)\n",
    "print(f\"Initial IO JSON CID: {initial_io_json_cid}\")\n",
    "\n",
    "completed_io_json_cid = plex_run(initial_io_json_cid)\n",
    "print(f\"Completed IO JSON CID: {completed_io_json_cid}\")"
   ]
  },
  {
   "attachments": {},
   "cell_type": "markdown",
   "metadata": {},
   "source": [
    "This software is just getting started. Visit our Charmverse to see how you can contribute. Also, please star the [PLEX Github](https://github.com/labdao/plex) if you are excited about decentralized science. "
   ]
  }
 ],
 "metadata": {
  "kernelspec": {
   "display_name": "Python 3 (ipykernel)",
   "language": "python",
   "name": "python3"
  },
  "language_info": {
   "codemirror_mode": {
    "name": "ipython",
    "version": 3
   },
   "file_extension": ".py",
   "mimetype": "text/x-python",
   "name": "python",
   "nbconvert_exporter": "python",
   "pygments_lexer": "ipython3",
   "version": "3.9.12"
  }
 },
 "nbformat": 4,
 "nbformat_minor": 4
}
