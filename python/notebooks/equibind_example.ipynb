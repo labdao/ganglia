{
 "cells": [
  {
   "cell_type": "code",
   "execution_count": 10,
   "metadata": {},
   "outputs": [
    {
     "data": {
      "text/plain": [
       "<module 'plex.sdk' from '/Users/mcmenemy/code/plex/python/plex/sdk.py'>"
      ]
     },
     "execution_count": 10,
     "metadata": {},
     "output_type": "execute_result"
    }
   ],
   "source": [
    "import os\n",
    "import sys\n",
    "import importlib\n",
    "\n",
    "# this can disapear once plex is a pip package\n",
    "module_path = os.path.abspath(os.path.join('..'))\n",
    "if module_path not in sys.path:\n",
    "    sys.path.append(module_path)\n",
    "import plex.sdk\n",
    "importlib.reload(plex.sdk)\n",
    "\n",
    "os.environ[\"PLEX_ACCESS_TOKEN\"] = \"mellon\"\n",
    "os.environ[\"PLEX_ENV\"] = \"stage\""
   ]
  },
  {
   "cell_type": "code",
   "execution_count": 11,
   "metadata": {},
   "outputs": [
    {
     "name": "stdout",
     "output_type": "stream",
     "text": [
      "/Users/mcmenemy/code/plex\n"
     ]
    }
   ],
   "source": [
    "def create_example_io_sig():\n",
    "  cwd = os.getcwd()\n",
    "  plex_dir = os.path.dirname(os.path.dirname(cwd))\n",
    "  print(plex_dir)\n",
    "  io_sig = [\n",
    "    {\n",
    "      \"outputs\": {\n",
    "        \"best_docked_small_molecule\": {\n",
    "          \"class\": \"File\",\n",
    "          \"filepath\": \"\"\n",
    "        },\n",
    "        \"protein\": {\n",
    "          \"class\": \"File\",\n",
    "          \"filepath\": \"\"\n",
    "        }\n",
    "      },\n",
    "      \"tool\": \"tools/equibind.json\",\n",
    "      \"inputs\": {\n",
    "        \"protein\": {\n",
    "          \"class\": \"File\",\n",
    "          \"filepath\": f\"{plex_dir}/testdata/binding/pdbbind_processed_size2/6d08/6d08_protein_processed.pdb\"\n",
    "        },\n",
    "        \"small_molecule\": {\n",
    "          \"class\": \"File\",\n",
    "          \"filepath\": f\"{plex_dir}/testdata/binding/pdbbind_processed_size2/6d08/6d08_ligand.sdf\"\n",
    "        }\n",
    "      },\n",
    "      \"state\": \"created\",\n",
    "      \"errMsg\": \"\"\n",
    "    },\n",
    "    {\n",
    "      \"outputs\": {\n",
    "        \"best_docked_small_molecule\": {\n",
    "          \"class\": \"File\",\n",
    "          \"filepath\": \"\"\n",
    "        },\n",
    "        \"protein\": {\n",
    "          \"class\": \"File\",\n",
    "          \"filepath\": \"\"\n",
    "        }\n",
    "      },\n",
    "      \"tool\": \"tools/equibind.json\",\n",
    "      \"inputs\": {\n",
    "        \"protein\": {\n",
    "          \"class\": \"File\",\n",
    "          \"filepath\": f\"{plex_dir}/testdata/binding/pdbbind_processed_size2/6qqu/6qqu_protein_processed.pdb\"\n",
    "        },\n",
    "        \"small_molecule\": {\n",
    "          \"class\": \"File\",\n",
    "          \"filepath\": f\"{plex_dir}/testdata/binding/pdbbind_processed_size2/6d08/6d08_ligand.sdf\"\n",
    "        }\n",
    "      },\n",
    "      \"state\": \"created\",\n",
    "      \"errMsg\": \"\"\n",
    "    }\n",
    "  ]\n",
    "  return io_sig\n",
    "\n",
    "io_sig = create_example_io_sig()\n",
    "\n"
   ]
  },
  {
   "cell_type": "code",
   "execution_count": 12,
   "metadata": {},
   "outputs": [
    {
     "name": "stdout",
     "output_type": "stream",
     "text": [
      "Plex version (v0.6.0) up to date.\n",
      "PLEX_ACCESS_TOKEN is required\n",
      "Run export PLEX_ACCESS_TOKEN=<token>\n",
      "Fill out this form to have an access token sent to your email: https://whe68a12b61.typeform.com/to/PpbO2HYf\n"
     ]
    }
   ],
   "source": [
    "from plex.sdk import run_plex\n",
    "\n",
    "run_plex(io_sig)"
   ]
  }
 ],
 "metadata": {
  "kernelspec": {
   "display_name": "Python 3",
   "language": "python",
   "name": "python3"
  },
  "language_info": {
   "codemirror_mode": {
    "name": "ipython",
    "version": 3
   },
   "file_extension": ".py",
   "mimetype": "text/x-python",
   "name": "python",
   "nbconvert_exporter": "python",
   "pygments_lexer": "ipython3",
   "version": "3.9.12"
  },
  "orig_nbformat": 4
 },
 "nbformat": 4,
 "nbformat_minor": 2
}
