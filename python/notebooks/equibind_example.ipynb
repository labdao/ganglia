{
 "cells": [
  {
   "cell_type": "code",
   "execution_count": 1,
   "metadata": {},
   "outputs": [],
   "source": [
    "import os\n",
    "import sys\n",
    "import importlib\n",
    "\n",
    "# this can disapear once plex is a pip package\n",
    "module_path = os.path.abspath(os.path.join('..'))\n",
    "if module_path not in sys.path:\n",
    "    sys.path.append(module_path)\n",
    "import plex.sdk\n",
    "importlib.reload(plex.sdk)\n",
    "\n",
    "os.environ[\"PLEX_ACCESS_TOKEN\"] = \"mellon\"\n",
    "os.environ[\"PLEX_ENV\"] = \"stage\""
   ]
  },
  {
   "cell_type": "code",
   "execution_count": 2,
   "metadata": {},
   "outputs": [
    {
     "name": "stdout",
     "output_type": "stream",
     "text": [
      "/home/ubuntu/plex\n"
     ]
    }
   ],
   "source": [
    "def create_example_io_sig():\n",
    "  cwd = os.getcwd()\n",
    "  plex_dir = os.path.dirname(os.path.dirname(cwd))\n",
    "  print(plex_dir)\n",
    "  io_sig = [\n",
    "    {\n",
    "      \"outputs\": {\n",
    "        \"best_docked_small_molecule\": {\n",
    "          \"class\": \"File\",\n",
    "          \"filepath\": \"\"\n",
    "        },\n",
    "        \"protein\": {\n",
    "          \"class\": \"File\",\n",
    "          \"filepath\": \"\"\n",
    "        }\n",
    "      },\n",
    "      \"tool\": \"tools/equibind.json\",\n",
    "      \"inputs\": {\n",
    "        \"protein\": {\n",
    "          \"class\": \"File\",\n",
    "          \"filepath\": f\"{plex_dir}/testdata/binding/pdbbind_processed_size2/6d08/6d08_protein_processed.pdb\"\n",
    "        },\n",
    "        \"small_molecule\": {\n",
    "          \"class\": \"File\",\n",
    "          \"filepath\": f\"{plex_dir}/testdata/binding/pdbbind_processed_size2/6d08/6d08_ligand.sdf\"\n",
    "        }\n",
    "      },\n",
    "      \"state\": \"created\",\n",
    "      \"errMsg\": \"\"\n",
    "    },\n",
    "    {\n",
    "      \"outputs\": {\n",
    "        \"best_docked_small_molecule\": {\n",
    "          \"class\": \"File\",\n",
    "          \"filepath\": \"\"\n",
    "        },\n",
    "        \"protein\": {\n",
    "          \"class\": \"File\",\n",
    "          \"filepath\": \"\"\n",
    "        }\n",
    "      },\n",
    "      \"tool\": \"tools/equibind.json\",\n",
    "      \"inputs\": {\n",
    "        \"protein\": {\n",
    "          \"class\": \"File\",\n",
    "          \"filepath\": f\"{plex_dir}/testdata/binding/pdbbind_processed_size2/6qqu/6qqu_protein_processed.pdb\"\n",
    "        },\n",
    "        \"small_molecule\": {\n",
    "          \"class\": \"File\",\n",
    "          \"filepath\": f\"{plex_dir}/testdata/binding/pdbbind_processed_size2/6d08/6d08_ligand.sdf\"\n",
    "        }\n",
    "      },\n",
    "      \"state\": \"created\",\n",
    "      \"errMsg\": \"\"\n",
    "    }\n",
    "  ]\n",
    "  return io_sig\n",
    "\n",
    "io_sig = create_example_io_sig()\n",
    "\n"
   ]
  },
  {
   "cell_type": "code",
   "execution_count": 3,
   "metadata": {},
   "outputs": [
    {
     "name": "stdout",
     "output_type": "stream",
     "text": [
      "Plex version (v0.6.1) up to date.\n",
      "BACALHAU_API_HOST not set, using default host\n",
      "toolPath \n",
      "Running IPWL io path\n",
      "Created working directory:  /home/ubuntu/plex/8383bb95-9999-4a63-b072-717c36a8677e\n",
      "Reading IO Entries from:  /tmp/tmp_j6jasmz/io_data.json\n",
      "Initialized IO file at:  /home/ubuntu/plex/8383bb95-9999-4a63-b072-717c36a8677e/io.json\n",
      "Processing IO Entries\n",
      "/home/ubuntu/plex/8383bb95-9999-4a63-b072-717c36a8677e\n",
      "/home/ubuntu/plex/8383bb95-9999-4a63-b072-717c36a8677e/io.json\n",
      "Starting to process IO entry 1 \n",
      "Job running...\n",
      "Bacalhau job id: bd36a5db-eac0-4825-8991-d197d0e06472 \n",
      "////🌱____////\n",
      "////_🌱___////\n",
      "////__🌱__////\n",
      "////___🌱_////\n",
      "Computing default go-libp2p Resource Manager limits based on:\n",
      "    - 'Swarm.ResourceMgr.MaxMemory': \"32 GB\"\n",
      "    - 'Swarm.ResourceMgr.MaxFileDescriptors': 524288\n",
      "\n",
      "Applying any user-supplied overrides on top.\n",
      "Run 'ipfs swarm limit all' to see the resulting limits.\n",
      "\n",
      "Moving /home/ubuntu/plex/8383bb95-9999-4a63-b072-717c36a8677e/entry-1/outputs/outputs/6qqu_protein_processed.pdb to /home/ubuntu/plex/8383bb95-9999-4a63-b072-717c36a8677e/entry-1/outputs/6qqu_protein_processed.pdbMoving /home/ubuntu/plex/8383bb95-9999-4a63-b072-717c36a8677e/entry-1/outputs/outputs/6qqu_protein_processed_6d08_ligand_docked.sdf to /home/ubuntu/plex/8383bb95-9999-4a63-b072-717c36a8677e/entry-1/outputs/6qqu_protein_processed_6d08_ligand_docked.sdfSuccess processing IO entry 1 \n",
      "Starting to process IO entry 0 \n",
      "Job running...\n",
      "Bacalhau job id: 0fdfc768-2f75-4b2d-aaae-122c3b027c61 \n",
      "////🌱____////\n",
      "////_🌱___////\n",
      "Computing default go-libp2p Resource Manager limits based on:\n",
      "    - 'Swarm.ResourceMgr.MaxMemory': \"32 GB\"\n",
      "    - 'Swarm.ResourceMgr.MaxFileDescriptors': 524288\n",
      "\n",
      "Applying any user-supplied overrides on top.\n",
      "Run 'ipfs swarm limit all' to see the resulting limits.\n",
      "\n",
      "Moving /home/ubuntu/plex/8383bb95-9999-4a63-b072-717c36a8677e/entry-0/outputs/outputs/6d08_protein_processed.pdb to /home/ubuntu/plex/8383bb95-9999-4a63-b072-717c36a8677e/entry-0/outputs/6d08_protein_processed.pdbMoving /home/ubuntu/plex/8383bb95-9999-4a63-b072-717c36a8677e/entry-0/outputs/outputs/6d08_protein_processed_6d08_ligand_docked.sdf to /home/ubuntu/plex/8383bb95-9999-4a63-b072-717c36a8677e/entry-0/outputs/6d08_protein_processed_6d08_ligand_docked.sdfSuccess processing IO entry 0 \n",
      "Finished processing, results written to /home/ubuntu/plex/8383bb95-9999-4a63-b072-717c36a8677e/io.json"
     ]
    }
   ],
   "source": [
    "from plex.sdk import run_plex\n",
    "\n",
    "run_plex(io_sig)"
   ]
  },
  {
   "cell_type": "code",
   "execution_count": null,
   "metadata": {},
   "outputs": [],
   "source": []
  }
 ],
 "metadata": {
  "kernelspec": {
   "display_name": "Python 3 (ipykernel)",
   "language": "python",
   "name": "python3"
  },
  "language_info": {
   "codemirror_mode": {
    "name": "ipython",
    "version": 3
   },
   "file_extension": ".py",
   "mimetype": "text/x-python",
   "name": "python",
   "nbconvert_exporter": "python",
   "pygments_lexer": "ipython3",
   "version": "3.9.13"
  }
 },
 "nbformat": 4,
 "nbformat_minor": 4
}
