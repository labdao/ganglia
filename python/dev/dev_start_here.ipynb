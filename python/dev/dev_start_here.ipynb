{
 "cells": [
  {
   "attachments": {},
   "cell_type": "markdown",
   "metadata": {},
   "source": [
    "PLEX is a software client that supports an open ecosystem for generating scientific data."
   ]
  },
  {
   "cell_type": "code",
   "execution_count": 15,
   "metadata": {},
   "outputs": [
    {
     "ename": "FileNotFoundError",
     "evalue": "[Errno 2] No such file or directory",
     "output_type": "error",
     "traceback": [
      "\u001b[0;31m---------------------------------------------------------------------------\u001b[0m",
      "\u001b[0;31mFileNotFoundError\u001b[0m                         Traceback (most recent call last)",
      "\u001b[1;32m/Users/mcmenemy/code/plex/python/dev/dev_start_here.ipynb Cell 2\u001b[0m in \u001b[0;36m<cell line: 17>\u001b[0;34m()\u001b[0m\n\u001b[1;32m     <a href='vscode-notebook-cell:/Users/mcmenemy/code/plex/python/dev/dev_start_here.ipynb#X22sZmlsZQ%3D%3D?line=13'>14</a>\u001b[0m \u001b[39mimport\u001b[39;00m \u001b[39msys\u001b[39;00m\n\u001b[1;32m     <a href='vscode-notebook-cell:/Users/mcmenemy/code/plex/python/dev/dev_start_here.ipynb#X22sZmlsZQ%3D%3D?line=14'>15</a>\u001b[0m \u001b[39mimport\u001b[39;00m \u001b[39mimportlib\u001b[39;00m\n\u001b[0;32m---> <a href='vscode-notebook-cell:/Users/mcmenemy/code/plex/python/dev/dev_start_here.ipynb#X22sZmlsZQ%3D%3D?line=16'>17</a>\u001b[0m module_path \u001b[39m=\u001b[39m os\u001b[39m.\u001b[39;49mpath\u001b[39m.\u001b[39;49mabspath(os\u001b[39m.\u001b[39;49mpath\u001b[39m.\u001b[39;49mjoin(\u001b[39m'\u001b[39;49m\u001b[39m..\u001b[39;49m\u001b[39m'\u001b[39;49m))\n\u001b[1;32m     <a href='vscode-notebook-cell:/Users/mcmenemy/code/plex/python/dev/dev_start_here.ipynb#X22sZmlsZQ%3D%3D?line=17'>18</a>\u001b[0m \u001b[39mif\u001b[39;00m module_path \u001b[39mnot\u001b[39;00m \u001b[39min\u001b[39;00m sys\u001b[39m.\u001b[39mpath:\n\u001b[1;32m     <a href='vscode-notebook-cell:/Users/mcmenemy/code/plex/python/dev/dev_start_here.ipynb#X22sZmlsZQ%3D%3D?line=18'>19</a>\u001b[0m     sys\u001b[39m.\u001b[39mpath\u001b[39m.\u001b[39mappend(module_path)\n",
      "File \u001b[0;32m/opt/homebrew/anaconda3/lib/python3.9/posixpath.py:380\u001b[0m, in \u001b[0;36mabspath\u001b[0;34m(path)\u001b[0m\n\u001b[1;32m    378\u001b[0m         cwd \u001b[39m=\u001b[39m os\u001b[39m.\u001b[39mgetcwdb()\n\u001b[1;32m    379\u001b[0m     \u001b[39melse\u001b[39;00m:\n\u001b[0;32m--> 380\u001b[0m         cwd \u001b[39m=\u001b[39m os\u001b[39m.\u001b[39;49mgetcwd()\n\u001b[1;32m    381\u001b[0m     path \u001b[39m=\u001b[39m join(cwd, path)\n\u001b[1;32m    382\u001b[0m \u001b[39mreturn\u001b[39;00m normpath(path)\n",
      "\u001b[0;31mFileNotFoundError\u001b[0m: [Errno 2] No such file or directory"
     ]
    }
   ],
   "source": [
    "# Run this code to setup the Python PLEX module\n",
    "\n",
    "import os\n",
    "\n",
    "# PLEX_DIR should be the path to the plex repository\n",
    "PLEX_DIR = \"/Users/mcmenemy/code/plex\" \n",
    "\n",
    "# speak friend and enter\n",
    "os.environ[\"PLEX_ACCESS_TOKEN\"] = \"mellon\"\n",
    "os.environ[\"RECIPIENT_WALLET\"] = \"\" # (optional) enter your wallet address to mint an NFT\n",
    "os.environ[\"AUTOTASK_WEBHOOK\"] = \"\" # (optional) enter webhook URI for gasless minting\n",
    "\n",
    "import os\n",
    "import sys\n",
    "import importlib\n",
    "\n",
    "module_path = os.path.abspath(os.path.join('..'))\n",
    "if module_path not in sys.path:\n",
    "    sys.path.append(module_path)\n",
    "import plex.sdk\n",
    "importlib.reload(plex.sdk)"
   ]
  },
  {
   "attachments": {},
   "cell_type": "markdown",
   "metadata": {},
   "source": [
    "PLEX uses JSON and Docker to make scientific tools easy to run."
   ]
  },
  {
   "cell_type": "code",
   "execution_count": null,
   "metadata": {},
   "outputs": [],
   "source": [
    "# Run this code to use the Equibind small molecule docking software\n",
    "# To learn more about the science behind small molecule docking visit https://docs.labdao.xyz/small-molecule-binding/overview.\n",
    "\n",
    "from plex.sdk import generate_io_graph_from_tool, plex_create, plex_run\n",
    "\n",
    "tool_filepath = f\"{PLEX_DIR}/tools/equibind.json\"\n",
    "protein_paths = [f\"{PLEX_DIR}/testdata/binding/abl/7n9g.pdb\"]\n",
    "small_molecule_paths = [f\"{PLEX_DIR}/testdata/binding/pdbbind_processed_size2/6d08/6d08_ligand.sdf\"]\n",
    "input_dir = f\"{PLEX_DIR}/testdata/binding/abl/\"\n",
    "\n",
    "# io_graph = generate_io_graph_from_tool(tool_filepath=tool_filepath, protein=protein_paths, small_molecule=small_molecule_paths)\n",
    "\n",
    "initial_io_json_cid = plex_create(tool_filepath, input_dir, plex_path=\"./plex\")\n",
    "print(f\"Initial IO JSON CID: {initial_io_json_cid}\")\n"
   ]
  },
  {
   "cell_type": "code",
   "execution_count": null,
   "metadata": {},
   "outputs": [],
   "source": [
    "\n",
    "completed_io_json_cid, io_json_local_filepath = plex_run(initial_io_json_cid, plex_path=\"./plex\")\n",
    "print(f\"Completed IO JSON CID: {completed_io_json_cid}\")\n",
    "print(f\"IO JSON Local Filepath: {io_json_local_filepath}\")\n"
   ]
  },
  {
   "cell_type": "code",
   "execution_count": null,
   "metadata": {},
   "outputs": [],
   "source": [
    "\n",
    "completed_io_json_cid = plex_run(initial_io_json_cid, plex_path=\"./plex\")\n",
    "print(f\"Completed IO JSON CID: {completed_io_json_cid}\")\n"
   ]
  },
  {
   "cell_type": "code",
   "execution_count": null,
   "metadata": {},
   "outputs": [],
   "source": [
    "from plex.sdk import plex_mint\n",
    "\n",
    "print(completed_io_json_cid)\n",
    "plex_mint(completed_io_json_cid)"
   ]
  },
  {
   "attachments": {},
   "cell_type": "markdown",
   "metadata": {},
   "source": [
    "PLEX uses an open-source storage system called IPFS. IPFS deterministically hashes every piece of data into a unique content identifier (CID). CIDs maximize the shareability and reproducibility of scientific computing."
   ]
  },
  {
   "cell_type": "code",
   "execution_count": null,
   "metadata": {},
   "outputs": [],
   "source": [
    "# Run the below code to see how PLEX stored the CID for every input and output\n",
    "\n",
    "import json\n",
    "\n",
    "with open(io_json_path, 'r') as f:\n",
    "    data = json.load(f)\n",
    "    pretty_data = json.dumps(data, indent=4, sort_keys=True)\n",
    "    print(pretty_data)\n"
   ]
  },
  {
   "attachments": {},
   "cell_type": "markdown",
   "metadata": {},
   "source": [
    "This software is just getting started. Visit our Charmverse to see how you can contribute. Also, please star the [PLEX Github](https://github.com/labdao/plex) if you are excited about decentralized science. "
   ]
  }
 ],
 "metadata": {
  "kernelspec": {
   "display_name": "Python 3 (ipykernel)",
   "language": "python",
   "name": "python3"
  },
  "language_info": {
   "codemirror_mode": {
    "name": "ipython",
    "version": 3
   },
   "file_extension": ".py",
   "mimetype": "text/x-python",
   "name": "python",
   "nbconvert_exporter": "python",
   "pygments_lexer": "ipython3",
   "version": "3.9.12"
  }
 },
 "nbformat": 4,
 "nbformat_minor": 4
}
