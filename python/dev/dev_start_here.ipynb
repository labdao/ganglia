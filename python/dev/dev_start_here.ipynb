{
 "cells": [
  {
   "attachments": {},
   "cell_type": "markdown",
   "metadata": {},
   "source": [
    "PLEX is a software client that supports an open ecosystem for generating scientific data."
   ]
  },
  {
   "cell_type": "code",
   "execution_count": 119,
   "metadata": {},
   "outputs": [
    {
     "data": {
      "text/plain": [
       "<module 'plex.sdk' from '/Users/mcmenemy/code/plex/python/plex/sdk.py'>"
      ]
     },
     "execution_count": 119,
     "metadata": {},
     "output_type": "execute_result"
    }
   ],
   "source": [
    "# Run this code to setup the Python PLEX module\n",
    "\n",
    "import os\n",
    "\n",
    "# PLEX_DIR should be the path to the plex repository\n",
    "PLEX_DIR = \"/Users/mcmenemy/code/plex\" \n",
    "\n",
    "# speak friend and enter\n",
    "os.environ[\"RECIPIENT_WALLET\"] = \"\" # (optional) enter your wallet address to mint an NFT\n",
    "os.environ[\"AUTOTASK_WEBHOOK\"] = \"\" # (optional) enter webhook URI for gasless minting\n",
    "\n",
    "import os\n",
    "import sys\n",
    "import importlib\n",
    "\n",
    "module_path = os.path.abspath(os.path.join('..'))\n",
    "if module_path not in sys.path:\n",
    "    sys.path.append(module_path)\n",
    "import plex.sdk\n",
    "importlib.reload(plex.sdk)"
   ]
  },
  {
   "attachments": {},
   "cell_type": "markdown",
   "metadata": {},
   "source": [
    "PLEX uses JSON and Docker to make scientific tools easy to run."
   ]
  },
  {
   "cell_type": "code",
   "execution_count": 107,
   "metadata": {},
   "outputs": [
    {
     "name": "stdout",
     "output_type": "stream",
     "text": [
      "Plex version (v0.8.0) up to date.\n",
      "Pinned IO JSON CID: QmX3FLRgoZSznsNyvrUCt5tuBRj5anc2v1VzdPPzmv1u1e\n",
      "Initial IO JSON CID: QmX3FLRgoZSznsNyvrUCt5tuBRj5anc2v1VzdPPzmv1u1e\n"
     ]
    }
   ],
   "source": [
    "# Run this code to use the Equibind small molecule docking software\n",
    "# To learn more about the science behind small molecule docking visit https://docs.labdao.xyz/small-molecule-binding/overview.\n",
    "\n",
    "from plex.sdk import CoreTools, generate_io_graph_from_tool, plex_run, plex_init\n",
    "\n",
    "tool_filepath = f\"{PLEX_DIR}/tools/equibind.json\"\n",
    "protein_paths = [f\"{PLEX_DIR}/testdata/binding/abl/7n9g.pdb\"]\n",
    "small_molecule_paths = [f\"{PLEX_DIR}/testdata/binding/pdbbind_processed_size2/6d08/6d08_ligand.sdf\"]\n",
    "\n",
    "initial_io_json_cid = plex_init(CoreTools.EQUIBIND.value, plex_path=\"./plex\", protein=protein_paths, small_molecule=small_molecule_paths)\n",
    "print(f\"Initial IO JSON CID: {initial_io_json_cid}\")\n"
   ]
  },
  {
   "cell_type": "code",
   "execution_count": 124,
   "metadata": {},
   "outputs": [
    {
     "name": "stdout",
     "output_type": "stream",
     "text": [
      "Plex version (v0.8.0) up to date.\n",
      "Created working directory:  /Users/mcmenemy/code/plex/jobs/032b31c0-9195-4d3c-851c-5e17f266a36f\n",
      "Initialized IO file at:  /Users/mcmenemy/code/plex/jobs/032b31c0-9195-4d3c-851c-5e17f266a36f/io.json\n",
      "Processing IO Entries\n",
      "Starting to process IO entry 0 \n",
      "Job running...\n",
      "Bacalhau job id: 3f5480b4-155c-409c-b2ae-494202aa6ddc \n",
      "\n",
      "Computing default go-libp2p Resource Manager limits based on:\n",
      "    - 'Swarm.ResourceMgr.MaxMemory': \"8.6 GB\"\n",
      "    - 'Swarm.ResourceMgr.MaxFileDescriptors': 30720\n",
      "\n",
      "Applying any user-supplied overrides on top.\n",
      "Run 'ipfs swarm limit all' to see the resulting limits.\n",
      "\n",
      "Success processing IO entry 0 \n",
      "Finished processing, results written to /Users/mcmenemy/code/plex/jobs/032b31c0-9195-4d3c-851c-5e17f266a36f/io.json\n",
      "Completed IO JSON CID: QmTAFuQTLHrS6dmC4BcpxSRPaFxeWHkpVBFUJRk7vwNGRa\n",
      "Completed IO JSON CID: QmTAFuQTLHrS6dmC4BcpxSRPaFxeWHkpVBFUJRk7vwNGRa\n"
     ]
    }
   ],
   "source": [
    "\n",
    "CACHE = True\n",
    "if CACHE:\n",
    "    completed_io_json_cid = \"QmTAFuQTLHrS6dmC4BcpxSRPaFxeWHkpVBFUJRk7vwNGRa\"\n",
    "    io_json_file_path = \"./jobs/e8091127-37f2-4aa5-b468-1180d603c9bf/io.json\"\n",
    "else:\n",
    "    completed_io_json_cid, io_json_file_path = plex_run(initial_io_json_cid, plex_path=\"./plex\")\n",
    "\n",
    "print(f\"Completed IO JSON CID: {completed_io_json_cid}\")\n"
   ]
  },
  {
   "cell_type": "code",
   "execution_count": 125,
   "metadata": {},
   "outputs": [
    {
     "name": "stdout",
     "output_type": "stream",
     "text": [
      "Plex version (v0.8.0) up to date.\n",
      "Output Vectors were saved at: /Users/mcmenemy/code/plex/ca4c5183-7234-44c0-aa48-171d5d0e0a96/output-vectors.json\n",
      "['/Users/mcmenemy/code/plex/ca4c5183-7234-44c0-aa48-171d5d0e0a96/entry-0/outputs/7n9g.pdb']\n"
     ]
    }
   ],
   "source": [
    "from plex.sdk import plex_vectorize\n",
    "\n",
    "output_vectors = plex_vectorize(io_json_file_path, CoreTools.EQUIBIND.value, outputDir=\"./jobs\", plex_path=\"./plex\")\n",
    "\n",
    "print(output_vectors[\"protein\"][\"filePaths\"])"
   ]
  },
  {
   "cell_type": "code",
   "execution_count": 84,
   "metadata": {},
   "outputs": [
    {
     "name": "stdout",
     "output_type": "stream",
     "text": [
      "QmTAFuQTLHrS6dmC4BcpxSRPaFxeWHkpVBFUJRk7vwNGRa\n",
      "Plex version (v0.8.0) up to date.\n",
      "AUTOTASK_WEBHOOK must be set\n",
      "Please visit https://try.labdao.xyz for instructions\n"
     ]
    }
   ],
   "source": [
    "from plex.sdk import plex_mint\n",
    "\n",
    "print(completed_io_json_cid)\n",
    "plex_mint(completed_io_json_cid, plex_path=\"./plex\")"
   ]
  },
  {
   "attachments": {},
   "cell_type": "markdown",
   "metadata": {},
   "source": [
    "PLEX uses an open-source storage system called IPFS. IPFS deterministically hashes every piece of data into a unique content identifier (CID). CIDs maximize the shareability and reproducibility of scientific computing."
   ]
  },
  {
   "cell_type": "code",
   "execution_count": 80,
   "metadata": {},
   "outputs": [
    {
     "name": "stdout",
     "output_type": "stream",
     "text": [
      "[\n",
      "    {\n",
      "        \"errMsg\": \"\",\n",
      "        \"inputs\": {\n",
      "            \"protein\": {\n",
      "                \"class\": \"File\",\n",
      "                \"filepath\": \"7n9g.pdb\",\n",
      "                \"ipfs\": \"QmUWCBTqbRaKkPXQ3M14NkUuM4TEwfhVfrqLNoBB7syyyd\"\n",
      "            },\n",
      "            \"small_molecule\": {\n",
      "                \"class\": \"File\",\n",
      "                \"filepath\": \"6d08_ligand.sdf\",\n",
      "                \"ipfs\": \"QmPErdymxLwpXcEHnWXYqEVHvRBVnh7kr3Uu5DNt2Y8wMR\"\n",
      "            }\n",
      "        },\n",
      "        \"outputs\": {\n",
      "            \"best_docked_small_molecule\": {\n",
      "                \"class\": \"File\",\n",
      "                \"filepath\": \"7n9g_6d08_ligand_docked.sdf\",\n",
      "                \"ipfs\": \"Qmd7KPEWAr2U95NuacVu1US6QtMWXxCfnszzWaUL55bW4A\"\n",
      "            },\n",
      "            \"protein\": {\n",
      "                \"class\": \"File\",\n",
      "                \"filepath\": \"7n9g.pdb\",\n",
      "                \"ipfs\": \"QmUWCBTqbRaKkPXQ3M14NkUuM4TEwfhVfrqLNoBB7syyyd\"\n",
      "            }\n",
      "        },\n",
      "        \"state\": \"completed\",\n",
      "        \"tool\": {\n",
      "            \"ipfs\": \"QmZ2HarAgwZGjc3LBx9mWNwAQkPWiHMignqKup1ckp8NhB\",\n",
      "            \"name\": \"equibind\"\n",
      "        }\n",
      "    }\n",
      "]\n"
     ]
    }
   ],
   "source": [
    "# Run the below code to see how PLEX stored the CID for every input and output\n",
    "\n",
    "import json\n",
    "\n",
    "with open(io_json_local_filepath, 'r') as f:\n",
    "    data = json.load(f)\n",
    "    pretty_data = json.dumps(data, indent=4, sort_keys=True)\n",
    "    print(pretty_data)\n"
   ]
  },
  {
   "attachments": {},
   "cell_type": "markdown",
   "metadata": {},
   "source": [
    "This software is just getting started. Visit our Charmverse to see how you can contribute. Also, please star the [PLEX Github](https://github.com/labdao/plex) if you are excited about decentralized science. "
   ]
  }
 ],
 "metadata": {
  "kernelspec": {
   "display_name": "Python 3 (ipykernel)",
   "language": "python",
   "name": "python3"
  },
  "language_info": {
   "codemirror_mode": {
    "name": "ipython",
    "version": 3
   },
   "file_extension": ".py",
   "mimetype": "text/x-python",
   "name": "python",
   "nbconvert_exporter": "python",
   "pygments_lexer": "ipython3",
   "version": "3.10.0"
  }
 },
 "nbformat": 4,
 "nbformat_minor": 4
}
